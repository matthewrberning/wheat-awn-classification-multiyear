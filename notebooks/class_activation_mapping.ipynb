{
 "cells": [
  {
   "cell_type": "code",
   "execution_count": 8,
   "id": "d9cb0047",
   "metadata": {},
   "outputs": [],
   "source": [
    "#matthew berning, 2021\n",
    "\n",
    "import os\n",
    "import sys\n",
    "import time\n",
    "\n",
    "sys.path.insert(0, os.path.abspath(os.path.dirname('../model/')))\n",
    "sys.path.insert(0, os.path.abspath(os.path.dirname('../data/')))\n",
    "sys.path.insert(0, os.path.abspath(os.path.dirname('../utils/')))\n",
    "\n",
    "from model import Model\n",
    "from dataset import WheatAwnDataset\n",
    "import inspection_functions\n",
    "import tensor_operations\n",
    "import input_validation\n",
    "\n",
    "import PIL\n",
    "import GPUtil\n",
    "import pickle\n",
    "import numpy as np\n",
    "import matplotlib.pyplot as plt\n",
    "from IPython.display import Image as ImDisp\n",
    "from mpl_toolkits.axes_grid1 import ImageGrid\n",
    "from sklearn.metrics import confusion_matrix\n",
    "from datetime import datetime\n",
    "from tqdm import tqdm\n",
    "\n",
    "import torch\n",
    "import torch.nn as nn\n",
    "import torchvision\n",
    "from torch.utils.data import DataLoader\n",
    "from torchvision import transforms\n",
    "\n",
    "%matplotlib inline"
   ]
  },
  {
   "cell_type": "code",
   "execution_count": 9,
   "id": "78396577",
   "metadata": {},
   "outputs": [
    {
     "name": "stdout",
     "output_type": "stream",
     "text": [
      "| ID | GPU | MEM |\n",
      "------------------\n",
      "|  0 |  0% | 91% |\n",
      "|  1 |  0% |  0% |\n",
      "|  2 |  0% |  0% |\n",
      "|  3 |  0% |  0% |\n"
     ]
    }
   ],
   "source": [
    "GPUtil.showUtilization()"
   ]
  },
  {
   "cell_type": "code",
   "execution_count": 10,
   "id": "a8fe69f9",
   "metadata": {},
   "outputs": [
    {
     "name": "stdout",
     "output_type": "stream",
     "text": [
      "most available GPU:  1\n"
     ]
    }
   ],
   "source": [
    "deviceIDs = GPUtil.getAvailable(order = 'first', limit = 1, maxLoad = 0.3, maxMemory = 0.3, includeNan=False, excludeID=[], excludeUUID=[])\n",
    "\n",
    "print(\"most available GPU: \",deviceIDs[0])"
   ]
  },
  {
   "cell_type": "code",
   "execution_count": 11,
   "id": "351cff8d",
   "metadata": {},
   "outputs": [],
   "source": [
    "#assignment\n",
    "os.environ[\"CUDA_VISIBLE_DEVICES\"] = str(deviceIDs[0])"
   ]
  },
  {
   "cell_type": "code",
   "execution_count": 21,
   "id": "29253340",
   "metadata": {},
   "outputs": [
    {
     "name": "stdout",
     "output_type": "stream",
     "text": [
      "VGG(\n",
      "  (features): Sequential(\n",
      "    (0): Conv2d(3, 64, kernel_size=(3, 3), stride=(1, 1), padding=(1, 1))\n",
      "    (1): ReLU(inplace=True)\n",
      "    (2): Conv2d(64, 64, kernel_size=(3, 3), stride=(1, 1), padding=(1, 1))\n",
      "    (3): ReLU(inplace=True)\n",
      "    (4): MaxPool2d(kernel_size=2, stride=2, padding=0, dilation=1, ceil_mode=False)\n",
      "    (5): Conv2d(64, 128, kernel_size=(3, 3), stride=(1, 1), padding=(1, 1))\n",
      "    (6): ReLU(inplace=True)\n",
      "    (7): Conv2d(128, 128, kernel_size=(3, 3), stride=(1, 1), padding=(1, 1))\n",
      "    (8): ReLU(inplace=True)\n",
      "    (9): MaxPool2d(kernel_size=2, stride=2, padding=0, dilation=1, ceil_mode=False)\n",
      "    (10): Conv2d(128, 256, kernel_size=(3, 3), stride=(1, 1), padding=(1, 1))\n",
      "    (11): ReLU(inplace=True)\n",
      "    (12): Conv2d(256, 256, kernel_size=(3, 3), stride=(1, 1), padding=(1, 1))\n",
      "    (13): ReLU(inplace=True)\n",
      "    (14): Conv2d(256, 256, kernel_size=(3, 3), stride=(1, 1), padding=(1, 1))\n",
      "    (15): ReLU(inplace=True)\n",
      "    (16): MaxPool2d(kernel_size=2, stride=2, padding=0, dilation=1, ceil_mode=False)\n",
      "    (17): Conv2d(256, 512, kernel_size=(3, 3), stride=(1, 1), padding=(1, 1))\n",
      "    (18): ReLU(inplace=True)\n",
      "    (19): Conv2d(512, 512, kernel_size=(3, 3), stride=(1, 1), padding=(1, 1))\n",
      "    (20): ReLU(inplace=True)\n",
      "    (21): Conv2d(512, 512, kernel_size=(3, 3), stride=(1, 1), padding=(1, 1))\n",
      "    (22): ReLU(inplace=True)\n",
      "    (23): MaxPool2d(kernel_size=2, stride=2, padding=0, dilation=1, ceil_mode=False)\n",
      "    (24): Conv2d(512, 512, kernel_size=(3, 3), stride=(1, 1), padding=(1, 1))\n",
      "    (25): ReLU(inplace=True)\n",
      "    (26): Conv2d(512, 512, kernel_size=(3, 3), stride=(1, 1), padding=(1, 1))\n",
      "    (27): ReLU(inplace=True)\n",
      "    (28): Conv2d(512, 512, kernel_size=(3, 3), stride=(1, 1), padding=(1, 1))\n",
      "    (29): ReLU(inplace=True)\n",
      "    (30): MaxPool2d(kernel_size=2, stride=2, padding=0, dilation=1, ceil_mode=False)\n",
      "  )\n",
      "  (avgpool): AdaptiveAvgPool2d(output_size=(7, 7))\n",
      "  (classifier): Sequential(\n",
      "    (0): Linear(in_features=25088, out_features=4096, bias=True)\n",
      "    (1): ReLU(inplace=True)\n",
      "    (2): Dropout(p=0.5, inplace=False)\n",
      "    (3): Linear(in_features=4096, out_features=4096, bias=True)\n",
      "    (4): ReLU(inplace=True)\n",
      "    (5): Dropout(p=0.5, inplace=False)\n",
      "    (6): Linear(in_features=4096, out_features=2, bias=True)\n",
      "  )\n",
      ")\n"
     ]
    },
    {
     "data": {
      "text/plain": [
       "<All keys matched successfully>"
      ]
     },
     "execution_count": 21,
     "metadata": {},
     "output_type": "execute_result"
    }
   ],
   "source": [
    "saved_model = Model('vgg16').construct_model(verbose=True)\n",
    "saved_model.load_state_dict(torch.load('/pless_nfs/home/matthewrberning/wheat-awn-classification-multiyear/runs/2021-11-15-23_14_01_model_epoch-6_val-acc-88.676.pth'))"
   ]
  },
  {
   "cell_type": "code",
   "execution_count": 22,
   "id": "01a90fd7",
   "metadata": {},
   "outputs": [
    {
     "data": {
      "text/plain": [
       "VGG(\n",
       "  (features): Sequential(\n",
       "    (0): Conv2d(3, 64, kernel_size=(3, 3), stride=(1, 1), padding=(1, 1))\n",
       "    (1): ReLU(inplace=True)\n",
       "    (2): Conv2d(64, 64, kernel_size=(3, 3), stride=(1, 1), padding=(1, 1))\n",
       "    (3): ReLU(inplace=True)\n",
       "    (4): MaxPool2d(kernel_size=2, stride=2, padding=0, dilation=1, ceil_mode=False)\n",
       "    (5): Conv2d(64, 128, kernel_size=(3, 3), stride=(1, 1), padding=(1, 1))\n",
       "    (6): ReLU(inplace=True)\n",
       "    (7): Conv2d(128, 128, kernel_size=(3, 3), stride=(1, 1), padding=(1, 1))\n",
       "    (8): ReLU(inplace=True)\n",
       "    (9): MaxPool2d(kernel_size=2, stride=2, padding=0, dilation=1, ceil_mode=False)\n",
       "    (10): Conv2d(128, 256, kernel_size=(3, 3), stride=(1, 1), padding=(1, 1))\n",
       "    (11): ReLU(inplace=True)\n",
       "    (12): Conv2d(256, 256, kernel_size=(3, 3), stride=(1, 1), padding=(1, 1))\n",
       "    (13): ReLU(inplace=True)\n",
       "    (14): Conv2d(256, 256, kernel_size=(3, 3), stride=(1, 1), padding=(1, 1))\n",
       "    (15): ReLU(inplace=True)\n",
       "    (16): MaxPool2d(kernel_size=2, stride=2, padding=0, dilation=1, ceil_mode=False)\n",
       "    (17): Conv2d(256, 512, kernel_size=(3, 3), stride=(1, 1), padding=(1, 1))\n",
       "    (18): ReLU(inplace=True)\n",
       "    (19): Conv2d(512, 512, kernel_size=(3, 3), stride=(1, 1), padding=(1, 1))\n",
       "    (20): ReLU(inplace=True)\n",
       "    (21): Conv2d(512, 512, kernel_size=(3, 3), stride=(1, 1), padding=(1, 1))\n",
       "    (22): ReLU(inplace=True)\n",
       "    (23): MaxPool2d(kernel_size=2, stride=2, padding=0, dilation=1, ceil_mode=False)\n",
       "    (24): Conv2d(512, 512, kernel_size=(3, 3), stride=(1, 1), padding=(1, 1))\n",
       "    (25): ReLU(inplace=True)\n",
       "    (26): Conv2d(512, 512, kernel_size=(3, 3), stride=(1, 1), padding=(1, 1))\n",
       "    (27): ReLU(inplace=True)\n",
       "    (28): Conv2d(512, 512, kernel_size=(3, 3), stride=(1, 1), padding=(1, 1))\n",
       "    (29): ReLU(inplace=True)\n",
       "    (30): MaxPool2d(kernel_size=2, stride=2, padding=0, dilation=1, ceil_mode=False)\n",
       "  )\n",
       "  (avgpool): AdaptiveAvgPool2d(output_size=(7, 7))\n",
       "  (classifier): Sequential(\n",
       "    (0): Linear(in_features=25088, out_features=4096, bias=True)\n",
       "    (1): ReLU(inplace=True)\n",
       "    (2): Dropout(p=0.5, inplace=False)\n",
       "    (3): Linear(in_features=4096, out_features=4096, bias=True)\n",
       "    (4): ReLU(inplace=True)\n",
       "    (5): Dropout(p=0.5, inplace=False)\n",
       "    (6): Linear(in_features=4096, out_features=2, bias=True)\n",
       "  )\n",
       ")"
      ]
     },
     "execution_count": 22,
     "metadata": {},
     "output_type": "execute_result"
    }
   ],
   "source": [
    "saved_model.eval()"
   ]
  },
  {
   "cell_type": "code",
   "execution_count": null,
   "id": "4f2206d7",
   "metadata": {},
   "outputs": [],
   "source": []
  },
  {
   "cell_type": "code",
   "execution_count": null,
   "id": "5140a76c",
   "metadata": {},
   "outputs": [],
   "source": []
  },
  {
   "cell_type": "code",
   "execution_count": null,
   "id": "7cfc7558",
   "metadata": {},
   "outputs": [],
   "source": []
  },
  {
   "cell_type": "code",
   "execution_count": null,
   "id": "0fe0c9aa",
   "metadata": {},
   "outputs": [],
   "source": []
  },
  {
   "cell_type": "code",
   "execution_count": null,
   "id": "5d1e593a",
   "metadata": {},
   "outputs": [],
   "source": []
  },
  {
   "cell_type": "code",
   "execution_count": null,
   "id": "85f61c6f",
   "metadata": {},
   "outputs": [],
   "source": []
  },
  {
   "cell_type": "code",
   "execution_count": null,
   "id": "aae86342",
   "metadata": {},
   "outputs": [],
   "source": [
    "device = torch.device(\"cuda:0\" if torch.cuda.is_available() else \"cpu\")\n",
    "saved_model = saved_model.to(device)\n",
    "print(\"device: \",device)"
   ]
  },
  {
   "cell_type": "code",
   "execution_count": null,
   "id": "236a7e34",
   "metadata": {},
   "outputs": [],
   "source": [
    "data_csv = '/pless_nfs/home/matthewrberning/wheat-awn-classification-multiyear/data/2019_val_awns_oversampled.csv'"
   ]
  },
  {
   "cell_type": "code",
   "execution_count": null,
   "id": "a0e31b89",
   "metadata": {},
   "outputs": [],
   "source": []
  },
  {
   "cell_type": "code",
   "execution_count": null,
   "id": "3a2fd818",
   "metadata": {},
   "outputs": [],
   "source": []
  },
  {
   "cell_type": "code",
   "execution_count": null,
   "id": "79a0a38a",
   "metadata": {},
   "outputs": [],
   "source": []
  },
  {
   "cell_type": "code",
   "execution_count": null,
   "id": "21e8b13e",
   "metadata": {},
   "outputs": [],
   "source": [
    "sys.path.insert(0, os.path.abspath(os.path.dirname('/pless_nfs/home/matthewrberning/wheat-awn-classification-multiyear/model/dataset.py')))"
   ]
  },
  {
   "cell_type": "code",
   "execution_count": null,
   "id": "3011bd4d",
   "metadata": {},
   "outputs": [],
   "source": [
    "from dataset import WheatAwnDataset\n",
    "from torchvision import transforms\n",
    "from torch.utils.data import DataLoader\n",
    "import numpy as np"
   ]
  },
  {
   "cell_type": "code",
   "execution_count": null,
   "id": "ff0d5c7d",
   "metadata": {},
   "outputs": [],
   "source": [
    "#path to images\n",
    "dataset_path = '/pless_nfs/home/matthewrberning/multi-year-cult-class/data/preprocessed/'\n",
    "\n",
    "#compose transforms\n",
    "transforms_ = transforms.Compose([transforms.RandomCrop((224,224)),\n",
    "                                      transforms.ToTensor()])\n",
    "\n",
    "#create the dataset\n",
    "data = WheatAwnDataset(csv_filepath=data_csv, dataset_dir=dataset_path, transform=transforms_)\n",
    "\n",
    "#create the dataloader\n",
    "dataloader = DataLoader(data, batch_size=1, shuffle=True)"
   ]
  },
  {
   "cell_type": "code",
   "execution_count": null,
   "id": "b90cb031",
   "metadata": {},
   "outputs": [],
   "source": []
  },
  {
   "cell_type": "code",
   "execution_count": null,
   "id": "b9aace4e",
   "metadata": {},
   "outputs": [],
   "source": []
  },
  {
   "cell_type": "code",
   "execution_count": null,
   "id": "35dc066f",
   "metadata": {},
   "outputs": [],
   "source": []
  },
  {
   "cell_type": "code",
   "execution_count": null,
   "id": "a0e6662c",
   "metadata": {},
   "outputs": [],
   "source": []
  },
  {
   "cell_type": "code",
   "execution_count": null,
   "id": "1ad5246e",
   "metadata": {},
   "outputs": [],
   "source": []
  },
  {
   "cell_type": "code",
   "execution_count": null,
   "id": "4391d6c2",
   "metadata": {},
   "outputs": [],
   "source": []
  },
  {
   "cell_type": "code",
   "execution_count": null,
   "id": "1b00cc67",
   "metadata": {},
   "outputs": [],
   "source": []
  },
  {
   "cell_type": "code",
   "execution_count": null,
   "id": "b92e22a7",
   "metadata": {},
   "outputs": [],
   "source": []
  },
  {
   "cell_type": "code",
   "execution_count": null,
   "id": "f21f3e52",
   "metadata": {},
   "outputs": [],
   "source": []
  },
  {
   "cell_type": "code",
   "execution_count": null,
   "id": "d4951001",
   "metadata": {},
   "outputs": [],
   "source": []
  },
  {
   "cell_type": "code",
   "execution_count": null,
   "id": "dfbf3bc0",
   "metadata": {},
   "outputs": [],
   "source": []
  },
  {
   "cell_type": "code",
   "execution_count": null,
   "id": "f8652411",
   "metadata": {},
   "outputs": [],
   "source": []
  },
  {
   "cell_type": "code",
   "execution_count": null,
   "id": "82b31cc9",
   "metadata": {},
   "outputs": [],
   "source": []
  },
  {
   "cell_type": "code",
   "execution_count": null,
   "id": "9b3eb329",
   "metadata": {},
   "outputs": [],
   "source": []
  },
  {
   "cell_type": "code",
   "execution_count": 2,
   "id": "ea79cf03",
   "metadata": {},
   "outputs": [],
   "source": [
    "\n",
    "# import cv2\n",
    "import torch\n",
    "import torch.nn as nn\n",
    "from torchvision import models\n",
    "import torch.nn.functional as F\n",
    "import numpy as np\n",
    "import torchvision.transforms as transforms\n",
    "import torchvision.datasets as datasets\n",
    "from torch.autograd import Variable\n",
    "from PIL import Image\n",
    "from PIL import ImageFile\n",
    "ImageFile.LOAD_TRUNCATED_IMAGES = True"
   ]
  },
  {
   "cell_type": "code",
   "execution_count": 10,
   "id": "5a41bd48",
   "metadata": {},
   "outputs": [
    {
     "name": "stdout",
     "output_type": "stream",
     "text": [
      "VGG(\n",
      "  (features): Sequential(\n",
      "    (0): Conv2d(3, 64, kernel_size=(3, 3), stride=(1, 1), padding=(1, 1))\n",
      "    (1): ReLU(inplace=True)\n",
      "    (2): Conv2d(64, 64, kernel_size=(3, 3), stride=(1, 1), padding=(1, 1))\n",
      "    (3): ReLU(inplace=True)\n",
      "    (4): MaxPool2d(kernel_size=2, stride=2, padding=0, dilation=1, ceil_mode=False)\n",
      "    (5): Conv2d(64, 128, kernel_size=(3, 3), stride=(1, 1), padding=(1, 1))\n",
      "    (6): ReLU(inplace=True)\n",
      "    (7): Conv2d(128, 128, kernel_size=(3, 3), stride=(1, 1), padding=(1, 1))\n",
      "    (8): ReLU(inplace=True)\n",
      "    (9): MaxPool2d(kernel_size=2, stride=2, padding=0, dilation=1, ceil_mode=False)\n",
      "    (10): Conv2d(128, 256, kernel_size=(3, 3), stride=(1, 1), padding=(1, 1))\n",
      "    (11): ReLU(inplace=True)\n",
      "    (12): Conv2d(256, 256, kernel_size=(3, 3), stride=(1, 1), padding=(1, 1))\n",
      "    (13): ReLU(inplace=True)\n",
      "    (14): Conv2d(256, 256, kernel_size=(3, 3), stride=(1, 1), padding=(1, 1))\n",
      "    (15): ReLU(inplace=True)\n",
      "    (16): MaxPool2d(kernel_size=2, stride=2, padding=0, dilation=1, ceil_mode=False)\n",
      "    (17): Conv2d(256, 512, kernel_size=(3, 3), stride=(1, 1), padding=(1, 1))\n",
      "    (18): ReLU(inplace=True)\n",
      "    (19): Conv2d(512, 512, kernel_size=(3, 3), stride=(1, 1), padding=(1, 1))\n",
      "    (20): ReLU(inplace=True)\n",
      "    (21): Conv2d(512, 512, kernel_size=(3, 3), stride=(1, 1), padding=(1, 1))\n",
      "    (22): ReLU(inplace=True)\n",
      "    (23): MaxPool2d(kernel_size=2, stride=2, padding=0, dilation=1, ceil_mode=False)\n",
      "    (24): Conv2d(512, 512, kernel_size=(3, 3), stride=(1, 1), padding=(1, 1))\n",
      "    (25): ReLU(inplace=True)\n",
      "    (26): Conv2d(512, 512, kernel_size=(3, 3), stride=(1, 1), padding=(1, 1))\n",
      "    (27): ReLU(inplace=True)\n",
      "    (28): Conv2d(512, 512, kernel_size=(3, 3), stride=(1, 1), padding=(1, 1))\n",
      "    (29): ReLU(inplace=True)\n",
      "    (30): MaxPool2d(kernel_size=2, stride=2, padding=0, dilation=1, ceil_mode=False)\n",
      "  )\n",
      "  (avgpool): AdaptiveAvgPool2d(output_size=(7, 7))\n",
      "  (classifier): Sequential(\n",
      "    (0): Linear(in_features=25088, out_features=4096, bias=True)\n",
      "    (1): ReLU(inplace=True)\n",
      "    (2): Dropout(p=0.5, inplace=False)\n",
      "    (3): Linear(in_features=4096, out_features=4096, bias=True)\n",
      "    (4): ReLU(inplace=True)\n",
      "    (5): Dropout(p=0.5, inplace=False)\n",
      "    (6): Linear(in_features=4096, out_features=1000, bias=True)\n",
      "  )\n",
      ")\n"
     ]
    }
   ],
   "source": [
    "vgg16 = models.vgg16(pretrained=True)\n",
    "print(vgg16)"
   ]
  },
  {
   "cell_type": "code",
   "execution_count": 9,
   "id": "8173eea5",
   "metadata": {},
   "outputs": [
    {
     "name": "stdout",
     "output_type": "stream",
     "text": [
      "Sequential(\n",
      "  (0): Sequential(\n",
      "    (0): Conv2d(3, 64, kernel_size=(3, 3), stride=(1, 1), padding=(1, 1))\n",
      "    (1): ReLU(inplace=True)\n",
      "    (2): Conv2d(64, 64, kernel_size=(3, 3), stride=(1, 1), padding=(1, 1))\n",
      "    (3): ReLU(inplace=True)\n",
      "    (4): MaxPool2d(kernel_size=2, stride=2, padding=0, dilation=1, ceil_mode=False)\n",
      "    (5): Conv2d(64, 128, kernel_size=(3, 3), stride=(1, 1), padding=(1, 1))\n",
      "    (6): ReLU(inplace=True)\n",
      "    (7): Conv2d(128, 128, kernel_size=(3, 3), stride=(1, 1), padding=(1, 1))\n",
      "    (8): ReLU(inplace=True)\n",
      "    (9): MaxPool2d(kernel_size=2, stride=2, padding=0, dilation=1, ceil_mode=False)\n",
      "    (10): Conv2d(128, 256, kernel_size=(3, 3), stride=(1, 1), padding=(1, 1))\n",
      "    (11): ReLU(inplace=True)\n",
      "    (12): Conv2d(256, 256, kernel_size=(3, 3), stride=(1, 1), padding=(1, 1))\n",
      "    (13): ReLU(inplace=True)\n",
      "    (14): Conv2d(256, 256, kernel_size=(3, 3), stride=(1, 1), padding=(1, 1))\n",
      "    (15): ReLU(inplace=True)\n",
      "    (16): MaxPool2d(kernel_size=2, stride=2, padding=0, dilation=1, ceil_mode=False)\n",
      "    (17): Conv2d(256, 512, kernel_size=(3, 3), stride=(1, 1), padding=(1, 1))\n",
      "    (18): ReLU(inplace=True)\n",
      "    (19): Conv2d(512, 512, kernel_size=(3, 3), stride=(1, 1), padding=(1, 1))\n",
      "    (20): ReLU(inplace=True)\n",
      "    (21): Conv2d(512, 512, kernel_size=(3, 3), stride=(1, 1), padding=(1, 1))\n",
      "    (22): ReLU(inplace=True)\n",
      "    (23): MaxPool2d(kernel_size=2, stride=2, padding=0, dilation=1, ceil_mode=False)\n",
      "    (24): Conv2d(512, 512, kernel_size=(3, 3), stride=(1, 1), padding=(1, 1))\n",
      "    (25): ReLU(inplace=True)\n",
      "    (26): Conv2d(512, 512, kernel_size=(3, 3), stride=(1, 1), padding=(1, 1))\n",
      "    (27): ReLU(inplace=True)\n",
      "    (28): Conv2d(512, 512, kernel_size=(3, 3), stride=(1, 1), padding=(1, 1))\n",
      "    (29): ReLU(inplace=True)\n",
      "    (30): MaxPool2d(kernel_size=2, stride=2, padding=0, dilation=1, ceil_mode=False)\n",
      "  )\n",
      "  (1): AdaptiveAvgPool2d(output_size=(7, 7))\n",
      ")\n"
     ]
    }
   ],
   "source": [
    " \n",
    "mod = nn.Sequential(*list(vgg16.children())[:-1])\n",
    "print(mod)"
   ]
  },
  {
   "cell_type": "code",
   "execution_count": 6,
   "id": "01031b07",
   "metadata": {},
   "outputs": [],
   "source": [
    "class Net(nn.Module):\n",
    "    def __init__(self):\n",
    "        super(Net,self).__init__() \n",
    "        #img = images\n",
    "        self.fc=nn.Linear(512,2)\n",
    "\n",
    "    \n",
    "    def forward(self,x):     \n",
    "        x=x.view(512,7*7).mean(1).view(1,-1)\n",
    "        x=self.fc(x)\n",
    "        return  F.softmax(x,dim=1)"
   ]
  },
  {
   "cell_type": "code",
   "execution_count": 7,
   "id": "942bf170",
   "metadata": {},
   "outputs": [],
   "source": [
    "model=nn.Sequential(mod,Net())"
   ]
  },
  {
   "cell_type": "code",
   "execution_count": 8,
   "id": "5ac99f6d",
   "metadata": {},
   "outputs": [
    {
     "name": "stdout",
     "output_type": "stream",
     "text": [
      "Sequential(\n",
      "  (0): Sequential(\n",
      "    (0): Sequential(\n",
      "      (0): Conv2d(3, 64, kernel_size=(3, 3), stride=(1, 1), padding=(1, 1))\n",
      "      (1): ReLU(inplace=True)\n",
      "      (2): Conv2d(64, 64, kernel_size=(3, 3), stride=(1, 1), padding=(1, 1))\n",
      "      (3): ReLU(inplace=True)\n",
      "      (4): MaxPool2d(kernel_size=2, stride=2, padding=0, dilation=1, ceil_mode=False)\n",
      "      (5): Conv2d(64, 128, kernel_size=(3, 3), stride=(1, 1), padding=(1, 1))\n",
      "      (6): ReLU(inplace=True)\n",
      "      (7): Conv2d(128, 128, kernel_size=(3, 3), stride=(1, 1), padding=(1, 1))\n",
      "      (8): ReLU(inplace=True)\n",
      "      (9): MaxPool2d(kernel_size=2, stride=2, padding=0, dilation=1, ceil_mode=False)\n",
      "      (10): Conv2d(128, 256, kernel_size=(3, 3), stride=(1, 1), padding=(1, 1))\n",
      "      (11): ReLU(inplace=True)\n",
      "      (12): Conv2d(256, 256, kernel_size=(3, 3), stride=(1, 1), padding=(1, 1))\n",
      "      (13): ReLU(inplace=True)\n",
      "      (14): Conv2d(256, 256, kernel_size=(3, 3), stride=(1, 1), padding=(1, 1))\n",
      "      (15): ReLU(inplace=True)\n",
      "      (16): MaxPool2d(kernel_size=2, stride=2, padding=0, dilation=1, ceil_mode=False)\n",
      "      (17): Conv2d(256, 512, kernel_size=(3, 3), stride=(1, 1), padding=(1, 1))\n",
      "      (18): ReLU(inplace=True)\n",
      "      (19): Conv2d(512, 512, kernel_size=(3, 3), stride=(1, 1), padding=(1, 1))\n",
      "      (20): ReLU(inplace=True)\n",
      "      (21): Conv2d(512, 512, kernel_size=(3, 3), stride=(1, 1), padding=(1, 1))\n",
      "      (22): ReLU(inplace=True)\n",
      "      (23): MaxPool2d(kernel_size=2, stride=2, padding=0, dilation=1, ceil_mode=False)\n",
      "      (24): Conv2d(512, 512, kernel_size=(3, 3), stride=(1, 1), padding=(1, 1))\n",
      "      (25): ReLU(inplace=True)\n",
      "      (26): Conv2d(512, 512, kernel_size=(3, 3), stride=(1, 1), padding=(1, 1))\n",
      "      (27): ReLU(inplace=True)\n",
      "      (28): Conv2d(512, 512, kernel_size=(3, 3), stride=(1, 1), padding=(1, 1))\n",
      "      (29): ReLU(inplace=True)\n",
      "      (30): MaxPool2d(kernel_size=2, stride=2, padding=0, dilation=1, ceil_mode=False)\n",
      "    )\n",
      "    (1): AdaptiveAvgPool2d(output_size=(7, 7))\n",
      "  )\n",
      "  (1): Net(\n",
      "    (fc): Linear(in_features=512, out_features=2, bias=True)\n",
      "  )\n",
      ")\n"
     ]
    }
   ],
   "source": [
    "print(model)"
   ]
  },
  {
   "cell_type": "code",
   "execution_count": 11,
   "id": "c0a18965",
   "metadata": {},
   "outputs": [
    {
     "data": {
      "text/plain": [
       "[Parameter containing:\n",
       " tensor([[-0.0328,  0.0369, -0.0113,  ..., -0.0035, -0.0055,  0.0205],\n",
       "         [ 0.0095,  0.0140,  0.0183,  ...,  0.0432, -0.0188, -0.0375]],\n",
       "        requires_grad=True),\n",
       " Parameter containing:\n",
       " tensor([0.0105, 0.0289], requires_grad=True)]"
      ]
     },
     "execution_count": 11,
     "metadata": {},
     "output_type": "execute_result"
    }
   ],
   "source": [
    "trainable_parameters = []\n",
    "for name, p in model.named_parameters():\n",
    "    if \"fc\" in name:\n",
    "        trainable_parameters.append(p)\n",
    "optimizer = torch.optim.SGD(params=trainable_parameters, lr=0.1, momentum=1e-5)  \n",
    "criterion = nn.CrossEntropyLoss()\n",
    "\n",
    "trainable_parameters"
   ]
  },
  {
   "cell_type": "code",
   "execution_count": 14,
   "id": "c851396c",
   "metadata": {},
   "outputs": [
    {
     "data": {
      "text/plain": [
       "array([-0.01592763, -0.00082537], dtype=float32)"
      ]
     },
     "execution_count": 14,
     "metadata": {},
     "output_type": "execute_result"
    }
   ],
   "source": [
    "\n",
    "params = list(Net().parameters())\n",
    "weight = np.squeeze(params[-1].data.numpy())\n",
    "\n",
    "weight"
   ]
  },
  {
   "cell_type": "code",
   "execution_count": 15,
   "id": "735765d3",
   "metadata": {},
   "outputs": [],
   "source": [
    "def return_CAM(feature_conv, weight, class_idx):\n",
    "    # generate the class -activation maps upsample to 256x256\n",
    "    size_upsample = (256, 256)\n",
    "    bz, nc, h, w = feature_conv.shape\n",
    "    output_cam = []\n",
    "    for idx in class_idx:\n",
    "        beforeDot =  feature_conv.reshape((nc, h*w))\n",
    "        cam = np.matmul(weight[idx], beforeDot)\n",
    "        cam = cam.reshape(h, w)\n",
    "        cam = cam - np.min(cam)\n",
    "        cam_img = cam / np.max(cam)\n",
    "        cam_img = np.uint8(255 * cam_img)\n",
    "        output_cam.append(cv2.resize(cam_img, size_upsample))\n",
    "    return output_cam"
   ]
  },
  {
   "cell_type": "code",
   "execution_count": null,
   "id": "4dd434a9",
   "metadata": {},
   "outputs": [],
   "source": []
  },
  {
   "cell_type": "code",
   "execution_count": null,
   "id": "e8ca01a5",
   "metadata": {},
   "outputs": [],
   "source": []
  },
  {
   "cell_type": "code",
   "execution_count": null,
   "id": "81d68cf2",
   "metadata": {},
   "outputs": [],
   "source": []
  },
  {
   "cell_type": "code",
   "execution_count": null,
   "id": "df146274",
   "metadata": {},
   "outputs": [],
   "source": []
  },
  {
   "cell_type": "code",
   "execution_count": null,
   "id": "388bedcd",
   "metadata": {},
   "outputs": [],
   "source": []
  },
  {
   "cell_type": "code",
   "execution_count": null,
   "id": "5e2cfd95",
   "metadata": {},
   "outputs": [],
   "source": []
  },
  {
   "cell_type": "code",
   "execution_count": null,
   "id": "475ce701",
   "metadata": {},
   "outputs": [],
   "source": []
  },
  {
   "cell_type": "code",
   "execution_count": null,
   "id": "b0671f6a",
   "metadata": {},
   "outputs": [],
   "source": []
  },
  {
   "cell_type": "code",
   "execution_count": null,
   "id": "ed99ac0f",
   "metadata": {},
   "outputs": [],
   "source": []
  },
  {
   "cell_type": "code",
   "execution_count": null,
   "id": "65f0698a",
   "metadata": {},
   "outputs": [],
   "source": []
  },
  {
   "cell_type": "code",
   "execution_count": null,
   "id": "fc9085f1",
   "metadata": {},
   "outputs": [],
   "source": []
  },
  {
   "cell_type": "code",
   "execution_count": null,
   "id": "9206406d",
   "metadata": {},
   "outputs": [],
   "source": []
  },
  {
   "cell_type": "code",
   "execution_count": null,
   "id": "7c21e022",
   "metadata": {},
   "outputs": [],
   "source": []
  },
  {
   "cell_type": "code",
   "execution_count": null,
   "id": "d67089a5",
   "metadata": {},
   "outputs": [],
   "source": []
  },
  {
   "cell_type": "code",
   "execution_count": null,
   "id": "54f2608f",
   "metadata": {},
   "outputs": [],
   "source": []
  },
  {
   "cell_type": "code",
   "execution_count": null,
   "id": "f59d48c6",
   "metadata": {},
   "outputs": [],
   "source": []
  },
  {
   "cell_type": "code",
   "execution_count": null,
   "id": "6ad04fc7",
   "metadata": {},
   "outputs": [],
   "source": []
  },
  {
   "cell_type": "markdown",
   "id": "25bd977a",
   "metadata": {},
   "source": [
    "## Grad CAM example\n",
    "from: https://medium.com/@stepanulyanin/implementing-grad-cam-in-pytorch-ea0937c31e82"
   ]
  },
  {
   "cell_type": "code",
   "execution_count": 30,
   "id": "230507ab",
   "metadata": {},
   "outputs": [],
   "source": [
    "from shutil import copy\n",
    "import os\n",
    "import random\n",
    "\n",
    "#copy a selection of files to work with to a placeholder dir\n",
    "placeholder_dir = \"/pless_nfs/home/matthewrberning/wheat-awn-classification-multiyear/notebooks/cam_imagefolder/\"\n",
    "dataset_dir = \"/pless_nfs/home/matthewrberning/multi-year-cult-class/data/preprocessed\""
   ]
  },
  {
   "cell_type": "code",
   "execution_count": 12,
   "id": "8d730429",
   "metadata": {},
   "outputs": [],
   "source": [
    "#collect filenames of images in dataset\n",
    "img_filenames = os.listdir(dataset_dir)"
   ]
  },
  {
   "cell_type": "code",
   "execution_count": 32,
   "id": "08d96337",
   "metadata": {},
   "outputs": [
    {
     "name": "stdout",
     "output_type": "stream",
     "text": [
      "20200603_20ASH_AM_X5R_5m_-90_video_flight1_DJI_A06276_C016_20200603_000509_1264_0824_1775_1336_20ASH00375.jpg\n",
      "20190508_19RF_AM_X5R_5m_-60_video_Flight1_DJI_A06276_C012_20190508_000518_0240_0824_0751_1336_19RKY00430.jpg\n",
      "20190515_19RF_AM_X5R_5m_-60_video_Flight1_DJI_A06276_C005_20190515_000854_1264_0824_1775_1336_19RKY00621.jpg\n",
      "20200515_20ASH_AM_X5R_5m_-60_video_flight2_DJI_A06276_C003_20200515_000817_1776_0824_2287_1336_20ASH00055.jpg\n",
      "20190523_19RF_AM_X5R_5m_-60_video_Flight1_DJI_A00417_C012_20190523_000501_2288_0824_2799_1336_19RKY00431.jpg\n",
      "20200513_20ASH_AM_X5R_5m_-60_video_flight2_DJI_A06276_C016_20200513_000583_2800_0824_3311_1336_20ASH00380.jpg\n",
      "20200609_20ASH_AM_X5R_5m_-60_video_flight1_DJI_A06074_C003_20200609_000259_0240_0824_0751_1336_20ASH00033.jpg\n",
      "20190522_19RF_AM_X5R_5m_-60_video_Flight1_DJI_A00417_C004_20190522_000442_2800_0824_3311_1336_19RKY00637.jpg\n",
      "20190506_19RF_AM_X5R_5m_-60_video_Flight1_DJI_A06276_C014_20190506_000419_0752_0824_1263_1336_19RKY00379.jpg\n",
      "20190610_19RF_AM_X5R_5m_-60_video_Flight1_DJI_A06074_C008_20190610_000938_1264_0824_1775_1336_19RKY00545.jpg\n"
     ]
    }
   ],
   "source": [
    "#choose 10 at random\n",
    "#use shutil.copy() to add files to the placeholder dir\n",
    "#https://docs.python.org/3/library/shutil.html#shutil.copy\n",
    "\n",
    "for i in range(10):\n",
    "    print(img_filenames[random.randint(0,len(img_filenames))])\n",
    "    copy(os.path.abspath(os.path.join(dataset_dir,img_filenames[random.randint(0,len(img_filenames))])), placeholder_dir)\n",
    "    "
   ]
  },
  {
   "cell_type": "code",
   "execution_count": 34,
   "id": "20641997",
   "metadata": {},
   "outputs": [],
   "source": [
    "\n",
    "import torch\n",
    "import torch.nn as nn\n",
    "from torch.utils import data\n",
    "from torchvision.models import vgg19\n",
    "from torchvision import transforms\n",
    "from torchvision import datasets\n",
    "import matplotlib.pyplot as plt\n",
    "import numpy as np\n",
    "\n",
    "# use the ImageNet transformation\n",
    "transform = transforms.Compose([transforms.Resize((224, 224)), \n",
    "                                transforms.ToTensor(),\n",
    "                                transforms.Normalize(mean=[0.485, 0.456, 0.406], std=[0.229, 0.224, 0.225])])\n",
    "\n",
    "# define a 1 image dataset\n",
    "dataset = datasets.ImageFolder(root=\"/pless_nfs/home/matthewrberning/wheat-awn-classification-multiyear/notebooks/\", transform=transform)\n",
    "\n",
    "# define the dataloader to load that single image\n",
    "dataloader = data.DataLoader(dataset=dataset, shuffle=False, batch_size=1)"
   ]
  },
  {
   "cell_type": "code",
   "execution_count": 39,
   "id": "ac71b743",
   "metadata": {},
   "outputs": [],
   "source": [
    "dataiter = iter(dataloader)"
   ]
  },
  {
   "cell_type": "code",
   "execution_count": 40,
   "id": "d4f6dbb8",
   "metadata": {
    "collapsed": true
   },
   "outputs": [
    {
     "name": "stdout",
     "output_type": "stream",
     "text": [
      "[tensor([[[[-1.2445, -1.1418, -1.1932,  ..., -0.4054, -0.6965, -0.7308],\n",
      "          [-1.2445, -1.2617, -1.2617,  ..., -0.4226, -0.7308, -0.6794],\n",
      "          [-1.2103, -1.1932, -1.1247,  ..., -0.3369, -0.7993, -0.8335],\n",
      "          ...,\n",
      "          [-1.6042, -1.6042, -1.6727,  ..., -1.1418, -1.2103, -1.3473],\n",
      "          [-1.0048, -1.0733, -1.1932,  ..., -1.0733, -1.1075, -1.2274],\n",
      "          [-0.6109, -0.6965, -0.7822,  ..., -1.1760, -1.1760, -1.1418]],\n",
      "\n",
      "         [[-0.8627, -0.7577, -0.8102,  ..., -0.0224, -0.3200, -0.3550],\n",
      "          [-0.8627, -0.8803, -0.8978,  ..., -0.0399, -0.3550, -0.3025],\n",
      "          [-0.8627, -0.8277, -0.7577,  ...,  0.0476, -0.4251, -0.4601],\n",
      "          ...,\n",
      "          [-1.2829, -1.2829, -1.3529,  ..., -0.8452, -0.9153, -1.0553],\n",
      "          [-0.6527, -0.7052, -0.8277,  ..., -0.7752, -0.8277, -0.9328],\n",
      "          [-0.2150, -0.3025, -0.3725,  ..., -0.8978, -0.8978, -0.8627]],\n",
      "\n",
      "         [[-1.2641, -1.1596, -1.2119,  ..., -0.5147, -0.7936, -0.8110],\n",
      "          [-1.2467, -1.2641, -1.2641,  ..., -0.5321, -0.8284, -0.7761],\n",
      "          [-1.1770, -1.1596, -1.0724,  ..., -0.4450, -0.9156, -0.9853],\n",
      "          ...,\n",
      "          [-1.5604, -1.5779, -1.6476,  ..., -1.1770, -1.2467, -1.3861],\n",
      "          [-1.0898, -1.1770, -1.2990,  ..., -1.0550, -1.1073, -1.2293],\n",
      "          [-0.8110, -0.9156, -1.0201,  ..., -1.1073, -1.1247, -1.1247]]]]), tensor([1])]\n",
      "[tensor([[[[-1.2788, -1.4158, -1.2959,  ..., -1.6213, -1.5528, -1.5014],\n",
      "          [-1.2959, -1.2959, -1.2959,  ..., -1.4843, -1.4329, -1.3815],\n",
      "          [-1.3815, -1.2617, -1.3302,  ..., -1.5185, -1.4672, -1.4158],\n",
      "          ...,\n",
      "          [-1.2103, -0.6794, -0.4054,  ..., -1.6384, -1.7069, -1.6898],\n",
      "          [-1.2274, -0.7822, -0.5424,  ..., -1.6213, -1.7069, -1.6898],\n",
      "          [-1.2788, -0.8849, -0.6109,  ..., -1.6213, -1.7069, -1.6898]],\n",
      "\n",
      "         [[-0.9678, -1.1078, -0.9853,  ..., -1.3880, -1.3179, -1.2654],\n",
      "          [-1.0028, -1.0028, -1.0028,  ..., -1.2479, -1.1954, -1.1429],\n",
      "          [-1.0903, -0.9678, -1.0378,  ..., -1.2829, -1.2304, -1.1779],\n",
      "          ...,\n",
      "          [-0.8277, -0.2850, -0.0224,  ..., -1.4405, -1.5105, -1.4930],\n",
      "          [-0.8452, -0.3901, -0.1625,  ..., -1.4230, -1.5105, -1.4930],\n",
      "          [-0.8978, -0.4951, -0.2325,  ..., -1.4230, -1.5105, -1.4930]],\n",
      "\n",
      "         [[-1.0898, -1.2293, -1.1073,  ..., -1.3861, -1.3513, -1.2990],\n",
      "          [-1.0898, -1.0898, -1.0898,  ..., -1.2641, -1.2293, -1.1770],\n",
      "          [-1.1596, -1.0376, -1.1073,  ..., -1.2990, -1.2641, -1.2119],\n",
      "          ...,\n",
      "          [-1.2467, -0.7064, -0.3578,  ..., -1.3861, -1.4559, -1.4384],\n",
      "          [-1.2641, -0.7936, -0.4973,  ..., -1.3687, -1.4559, -1.4384],\n",
      "          [-1.3164, -0.8981, -0.5670,  ..., -1.3687, -1.4559, -1.4384]]]]), tensor([1])]\n",
      "[tensor([[[[-0.8335, -0.7822, -0.7650,  ..., -0.3541, -0.2513,  0.1939],\n",
      "          [-0.7308, -0.8678, -0.8335,  ..., -0.1828, -0.1486,  0.0741],\n",
      "          [-0.6452, -0.8164, -0.8678,  ..., -0.1657, -0.1486,  0.0741],\n",
      "          ...,\n",
      "          [ 0.0569,  0.0741, -0.2171,  ..., -0.1143,  0.0741,  0.1768],\n",
      "          [-0.1828,  0.1426,  0.1254,  ..., -0.0458,  0.1426,  0.2453],\n",
      "          [-0.2342,  0.2453,  0.3309,  ..., -0.1143,  0.1426,  0.3652]],\n",
      "\n",
      "         [[-0.4951, -0.4426, -0.4601,  ..., -0.0749,  0.0301,  0.4678],\n",
      "          [-0.3901, -0.5301, -0.5126,  ...,  0.1001,  0.1176,  0.3452],\n",
      "          [-0.3025, -0.4776, -0.5476,  ...,  0.1176,  0.1352,  0.3452],\n",
      "          ...,\n",
      "          [ 0.3277,  0.3277,  0.0476,  ...,  0.2402,  0.4328,  0.5553],\n",
      "          [ 0.0826,  0.4153,  0.3978,  ...,  0.3102,  0.5203,  0.6254],\n",
      "          [ 0.0301,  0.5203,  0.6078,  ...,  0.2402,  0.5203,  0.7479]],\n",
      "\n",
      "         [[-0.7238, -0.6890, -0.7761,  ..., -0.8458, -0.7413, -0.3055],\n",
      "          [-0.6193, -0.7761, -0.8284,  ..., -0.6541, -0.6541, -0.4275],\n",
      "          [-0.5321, -0.7238, -0.8807,  ..., -0.6193, -0.6367, -0.4101],\n",
      "          ...,\n",
      "          [-0.4624, -0.4450, -0.6890,  ..., -0.3404, -0.1661, -0.0964],\n",
      "          [-0.7238, -0.3927, -0.3753,  ..., -0.2707, -0.1138, -0.0267],\n",
      "          [-0.7936, -0.3055, -0.1835,  ..., -0.3753, -0.1138,  0.0779]]]]), tensor([1])]\n",
      "[tensor([[[[ 0.6563,  1.2728,  1.3584,  ...,  1.2899,  0.8447,  0.5022],\n",
      "          [ 0.9132,  1.3070,  1.4098,  ...,  1.2214,  0.8447,  0.5193],\n",
      "          [ 1.1015,  1.3755,  1.5468,  ...,  1.2043,  0.9132,  0.6221],\n",
      "          ...,\n",
      "          [-0.6623, -0.3198, -0.1143,  ...,  0.4851,  0.0227, -0.2513],\n",
      "          [-0.7479, -0.5424, -0.0287,  ...,  0.3652,  0.2111, -0.1828],\n",
      "          [-0.5424, -0.5082,  0.0056,  ...,  0.2453,  0.1426, -0.2856]],\n",
      "\n",
      "         [[ 0.6429,  1.3081,  1.4307,  ...,  1.2906,  0.8704,  0.5378],\n",
      "          [ 0.9055,  1.3256,  1.4832,  ...,  1.2381,  0.8880,  0.5553],\n",
      "          [ 1.0980,  1.3957,  1.6232,  ...,  1.2206,  0.9580,  0.6604],\n",
      "          ...,\n",
      "          [-0.4251, -0.0574,  0.1877,  ...,  0.7304,  0.2927,  0.0476],\n",
      "          [-0.4951, -0.2675,  0.2577,  ...,  0.6429,  0.5028,  0.1352],\n",
      "          [-0.2850, -0.2325,  0.3277,  ...,  0.5203,  0.4503,  0.0476]],\n",
      "\n",
      "         [[-0.1312,  0.5136,  0.6356,  ...,  1.0191,  0.5834,  0.1825],\n",
      "          [ 0.1302,  0.5659,  0.7054,  ...,  0.9494,  0.5659,  0.1999],\n",
      "          [ 0.3393,  0.6531,  0.8622,  ...,  0.9145,  0.6182,  0.3045],\n",
      "          ...,\n",
      "          [-0.9678, -0.7238, -0.6193,  ..., -0.0790, -0.5147, -0.7761],\n",
      "          [-1.0898, -0.9678, -0.5844,  ..., -0.1661, -0.2707, -0.6541],\n",
      "          [-0.8981, -0.9504, -0.5670,  ..., -0.2881, -0.3404, -0.7413]]]]), tensor([1])]\n",
      "[tensor([[[[ 1.5297,  1.7009,  1.6838,  ...,  0.4337,  1.3242,  1.7180],\n",
      "          [ 1.6495,  1.6667,  1.6324,  ...,  0.4851,  1.2899,  1.6495],\n",
      "          [ 1.6838,  1.6324,  1.6153,  ...,  0.4679,  1.2214,  1.5125],\n",
      "          ...,\n",
      "          [-0.8678, -0.9534, -0.8678,  ...,  2.0777,  1.7523,  1.0502],\n",
      "          [-0.8164, -0.9705, -0.8335,  ...,  2.0434,  1.9407,  1.4954],\n",
      "          [-1.0390, -1.0562, -0.6794,  ...,  2.0434,  2.0605,  1.8722]],\n",
      "\n",
      "         [[ 2.0084,  2.1835,  2.1660,  ...,  0.9405,  1.8333,  2.1835],\n",
      "          [ 2.1310,  2.1485,  2.1134,  ...,  0.9930,  1.7808,  2.1134],\n",
      "          [ 2.1660,  2.1134,  2.0959,  ...,  0.9755,  1.7108,  1.9909],\n",
      "          ...,\n",
      "          [-0.4601, -0.5476, -0.4076,  ...,  2.3761,  2.0959,  1.4132],\n",
      "          [-0.4076, -0.5651, -0.3725,  ...,  2.3410,  2.2535,  1.8508],\n",
      "          [-0.6352, -0.6527, -0.2150,  ...,  2.3060,  2.3761,  2.2010]],\n",
      "\n",
      "         [[ 1.8383,  1.9951,  1.9777,  ...,  0.0082,  0.9494,  1.4200],\n",
      "          [ 1.9603,  1.9603,  1.9080,  ...,  0.0605,  0.9319,  1.3677],\n",
      "          [ 1.9951,  1.9254,  1.8731,  ...,  0.0953,  0.9145,  1.2980],\n",
      "          ...,\n",
      "          [-0.8284, -0.9330, -0.8807,  ...,  2.2391,  1.8208,  1.0017],\n",
      "          [-0.7761, -0.9504, -0.8458,  ...,  2.2391,  2.0474,  1.5071],\n",
      "          [-1.0027, -1.0550, -0.6890,  ...,  2.2740,  2.2217,  1.9428]]]]), tensor([1])]\n",
      "[tensor([[[[ 1.5468,  1.4954,  1.1700,  ...,  1.6495,  1.7694,  1.7694],\n",
      "          [ 1.5810,  1.5639,  1.2728,  ...,  0.8789,  1.5297,  1.7523],\n",
      "          [ 1.6153,  1.6324,  1.4269,  ...,  0.6221,  1.4954,  1.6838],\n",
      "          ...,\n",
      "          [ 1.2043,  1.1529,  1.1358,  ..., -1.1760, -1.2445, -1.2617],\n",
      "          [ 1.1187,  1.1358,  1.1700,  ..., -1.1418, -1.1760, -1.2274],\n",
      "          [ 1.1015,  1.1358,  1.2043,  ..., -1.2274, -1.2445, -1.3130]],\n",
      "\n",
      "         [[ 2.0259,  1.9734,  1.6232,  ...,  2.1310,  2.2185,  2.2010],\n",
      "          [ 2.0609,  2.0259,  1.7283,  ...,  1.3431,  1.9909,  2.1835],\n",
      "          [ 2.0959,  2.0959,  1.8859,  ...,  1.1331,  1.9909,  2.1310],\n",
      "          ...,\n",
      "          [ 1.8158,  1.7633,  1.7458,  ..., -0.9853, -1.0553, -1.0553],\n",
      "          [ 1.7283,  1.7458,  1.7808,  ..., -0.9503, -0.9853, -1.0203],\n",
      "          [ 1.7108,  1.7458,  1.8158,  ..., -1.0378, -1.0553, -1.0903]],\n",
      "\n",
      "         [[ 1.8383,  1.8208,  1.5245,  ...,  1.8905,  2.0474,  2.0997],\n",
      "          [ 1.8731,  1.8905,  1.6291,  ...,  1.0714,  1.7685,  2.0125],\n",
      "          [ 1.9080,  1.9603,  1.7860,  ...,  0.7576,  1.6640,  1.8557],\n",
      "          ...,\n",
      "          [ 1.4200,  1.3677,  1.3502,  ..., -1.1770, -1.1247, -1.1073],\n",
      "          [ 1.3328,  1.3502,  1.3851,  ..., -1.1073, -1.0376, -1.0376],\n",
      "          [ 1.3154,  1.3502,  1.4200,  ..., -1.1770, -1.0898, -1.0898]]]]), tensor([1])]\n",
      "[tensor([[[[1.5639, 0.8789, 0.6049,  ..., 1.1015, 0.9988, 0.8618],\n",
      "          [1.5297, 0.8447, 0.6221,  ..., 1.1529, 1.1015, 0.8447],\n",
      "          [1.5468, 0.8961, 0.6392,  ..., 1.1015, 1.1015, 0.7591],\n",
      "          ...,\n",
      "          [2.0434, 2.0777, 2.0434,  ..., 1.8893, 1.8208, 1.6153],\n",
      "          [1.9920, 2.0263, 2.0092,  ..., 1.8893, 1.6495, 1.2214],\n",
      "          [1.9407, 1.9749, 1.9749,  ..., 1.7352, 1.3413, 0.7933]],\n",
      "\n",
      "         [[1.8683, 1.2031, 1.0105,  ..., 1.6933, 1.5707, 1.3957],\n",
      "          [1.8333, 1.1856, 1.0280,  ..., 1.7458, 1.6758, 1.3782],\n",
      "          [1.8508, 1.2381, 1.0455,  ..., 1.6933, 1.6758, 1.2906],\n",
      "          ...,\n",
      "          [2.3410, 2.3761, 2.3410,  ..., 2.3060, 2.2535, 2.0609],\n",
      "          [2.3235, 2.3585, 2.3410,  ..., 2.3235, 2.0959, 1.6758],\n",
      "          [2.2710, 2.3060, 2.3060,  ..., 2.1660, 1.7808, 1.2206]],\n",
      "\n",
      "         [[1.7337, 0.9145, 0.4788,  ..., 1.2282, 1.1062, 0.9319],\n",
      "          [1.6988, 0.8797, 0.4788,  ..., 1.2805, 1.2108, 0.9145],\n",
      "          [1.7163, 0.9319, 0.5136,  ..., 1.2282, 1.2108, 0.8274],\n",
      "          ...,\n",
      "          [2.3088, 2.3437, 2.3088,  ..., 2.2043, 2.0823, 1.8383],\n",
      "          [2.2217, 2.2566, 2.2740,  ..., 2.1868, 1.8905, 1.3851],\n",
      "          [2.1171, 2.1868, 2.2217,  ..., 1.9951, 1.5245, 0.8971]]]]), tensor([1])]\n",
      "[tensor([[[[-1.0048, -1.1418, -1.1589,  ..., -1.1418, -1.1932, -1.3473],\n",
      "          [-0.8335, -1.1075, -1.0733,  ..., -0.9534, -1.0733, -1.1760],\n",
      "          [-0.9192, -0.9705, -1.1075,  ..., -1.0733, -1.1247, -1.1418],\n",
      "          ...,\n",
      "          [-0.1999, -0.4911, -0.8164,  ..., -1.0048, -1.0048, -1.1075],\n",
      "          [-0.4054, -0.6794, -0.9363,  ..., -1.2274, -1.3302, -1.4843],\n",
      "          [-0.4911, -0.6965, -0.8507,  ..., -1.2788, -1.4158, -1.5870]],\n",
      "\n",
      "         [[-0.5651, -0.7052, -0.7227,  ..., -0.7752, -0.8277, -0.9853],\n",
      "          [-0.3901, -0.6702, -0.6352,  ..., -0.5826, -0.7052, -0.8102],\n",
      "          [-0.4776, -0.5301, -0.6702,  ..., -0.7052, -0.7577, -0.7752],\n",
      "          ...,\n",
      "          [ 0.3452,  0.0476, -0.3375,  ..., -0.5126, -0.5476, -0.6702],\n",
      "          [ 0.1176, -0.1625, -0.4776,  ..., -0.7927, -0.9153, -1.0903],\n",
      "          [ 0.0301, -0.2150, -0.4076,  ..., -0.8803, -1.0378, -1.2479]],\n",
      "\n",
      "         [[-0.6890, -0.8284, -0.8458,  ..., -0.8807, -0.9330, -1.1247],\n",
      "          [-0.5321, -0.8284, -0.7761,  ..., -0.6890, -0.8110, -0.9504],\n",
      "          [-0.6367, -0.6890, -0.8284,  ..., -0.8110, -0.8633, -0.8981],\n",
      "          ...,\n",
      "          [ 0.0779, -0.2358, -0.5844,  ..., -0.7238, -0.7587, -0.8633],\n",
      "          [-0.1487, -0.4275, -0.7238,  ..., -0.9678, -1.0550, -1.2293],\n",
      "          [-0.2358, -0.4624, -0.6541,  ..., -1.0027, -1.1421, -1.3339]]]]), tensor([1])]\n",
      "[tensor([[[[-1.4672, -1.3987, -1.3644,  ..., -0.8678, -0.9534, -0.9020],\n",
      "          [-1.1075, -0.9363, -0.9192,  ..., -0.8164, -0.8164, -0.6794],\n",
      "          [-0.7993, -0.7993, -0.7993,  ..., -0.8164, -0.8507, -0.7822],\n",
      "          ...,\n",
      "          [-0.7308, -0.8164, -0.9877,  ..., -0.8678, -0.4568,  0.3309],\n",
      "          [-0.6452, -0.7479, -0.8849,  ..., -0.7137, -0.3712,  0.2796],\n",
      "          [-0.5596, -0.6965, -0.7479,  ..., -0.2513,  0.0398,  0.6221]],\n",
      "\n",
      "         [[-1.2129, -1.1253, -1.0728,  ..., -0.3200, -0.4076, -0.3550],\n",
      "          [-0.8452, -0.6527, -0.6001,  ..., -0.2675, -0.2675, -0.1275],\n",
      "          [-0.5301, -0.5126, -0.4951,  ..., -0.2675, -0.3025, -0.2325],\n",
      "          ...,\n",
      "          [-0.3200, -0.4251, -0.6176,  ..., -0.4426,  0.0651,  0.9405],\n",
      "          [-0.2325, -0.3375, -0.4951,  ..., -0.2500,  0.1527,  0.8880],\n",
      "          [-0.1450, -0.2850, -0.3550,  ...,  0.2227,  0.5903,  1.2381]],\n",
      "\n",
      "         [[-1.5256, -1.4733, -1.4384,  ..., -0.7761, -0.8633, -0.8110],\n",
      "          [-1.1596, -0.9853, -0.9678,  ..., -0.7238, -0.7238, -0.5844],\n",
      "          [-0.8458, -0.8284, -0.8458,  ..., -0.7238, -0.7587, -0.6890],\n",
      "          ...,\n",
      "          [-1.0201, -1.0724, -1.2119,  ..., -1.1073, -0.7761, -0.0267],\n",
      "          [-0.9330, -1.0027, -1.0898,  ..., -0.9853, -0.7413, -0.0964],\n",
      "          [-0.8633, -0.9504, -0.9504,  ..., -0.5495, -0.3578,  0.1999]]]]), tensor([1])]\n",
      "[tensor([[[[-1.4158, -1.5528, -1.6213,  ..., -1.3302, -1.4329, -1.5870],\n",
      "          [-1.3815, -1.4672, -1.4843,  ..., -1.4672, -1.5699, -1.6384],\n",
      "          [-1.5528, -1.5357, -1.4329,  ..., -1.4158, -1.6384, -1.7583],\n",
      "          ...,\n",
      "          [-1.5014, -1.7069, -1.8439,  ..., -0.8507, -0.8507, -0.6109],\n",
      "          [-1.6898, -1.7583, -1.7412,  ..., -0.9705, -0.9705, -0.7308],\n",
      "          [-1.7240, -1.7925, -1.7240,  ..., -0.4397, -0.3883, -0.1828]],\n",
      "\n",
      "         [[-1.3880, -1.5280, -1.6155,  ..., -1.3880, -1.4930, -1.6506],\n",
      "          [-1.3529, -1.4405, -1.4755,  ..., -1.5280, -1.6331, -1.7031],\n",
      "          [-1.5105, -1.4930, -1.3704,  ..., -1.4230, -1.6506, -1.7731],\n",
      "          ...,\n",
      "          [-1.5980, -1.8081, -1.9482,  ..., -0.7402, -0.7052, -0.4426],\n",
      "          [-1.7906, -1.8606, -1.8431,  ..., -0.8277, -0.7927, -0.5476],\n",
      "          [-1.8256, -1.8957, -1.8256,  ..., -0.2500, -0.1625,  0.0476]],\n",
      "\n",
      "         [[-1.3164, -1.4384, -1.4907,  ..., -1.0724, -1.1770, -1.3513],\n",
      "          [-1.2990, -1.3687, -1.3687,  ..., -1.2467, -1.3513, -1.4210],\n",
      "          [-1.4907, -1.4559, -1.3339,  ..., -1.2293, -1.4559, -1.5779],\n",
      "          ...,\n",
      "          [-1.2641, -1.4733, -1.6127,  ..., -0.7587, -0.7936, -0.5670],\n",
      "          [-1.4559, -1.5256, -1.5081,  ..., -0.9504, -0.9853, -0.7413],\n",
      "          [-1.4907, -1.5604, -1.4907,  ..., -0.4798, -0.4798, -0.2707]]]]), tensor([1])]\n"
     ]
    }
   ],
   "source": [
    "for i in range(10):\n",
    "    print(dataiter.next())"
   ]
  },
  {
   "cell_type": "code",
   "execution_count": null,
   "id": "afeecbfa",
   "metadata": {},
   "outputs": [],
   "source": []
  },
  {
   "cell_type": "code",
   "execution_count": 41,
   "id": "f3b6fd1d",
   "metadata": {},
   "outputs": [],
   "source": [
    "class VGG(nn.Module):\n",
    "    def __init__(self):\n",
    "        super(VGG, self).__init__()\n",
    "        \n",
    "        # get the pretrained VGG19 network\n",
    "        self.vgg = vgg19(pretrained=True)\n",
    "        \n",
    "        # disect the network to access its last convolutional layer\n",
    "        self.features_conv = self.vgg.features[:36]\n",
    "        \n",
    "        # get the max pool of the features stem\n",
    "        self.max_pool = nn.MaxPool2d(kernel_size=2, stride=2, padding=0, dilation=1, ceil_mode=False)\n",
    "        \n",
    "        # get the classifier of the vgg19\n",
    "        self.classifier = self.vgg.classifier\n",
    "        \n",
    "        # placeholder for the gradients\n",
    "        self.gradients = None\n",
    "    \n",
    "    # hook for the gradients of the activations\n",
    "    def activations_hook(self, grad):\n",
    "        self.gradients = grad\n",
    "        \n",
    "    def forward(self, x):\n",
    "        x = self.features_conv(x)\n",
    "        \n",
    "        # register the hook\n",
    "        h = x.register_hook(self.activations_hook)\n",
    "        \n",
    "        # apply the remaining pooling\n",
    "        x = self.max_pool(x)\n",
    "        x = x.view((1, -1))\n",
    "        x = self.classifier(x)\n",
    "        return x\n",
    "    \n",
    "    # method for the gradient extraction\n",
    "    def get_activations_gradient(self):\n",
    "        return self.gradients\n",
    "    \n",
    "    # method for the activation exctraction\n",
    "    def get_activations(self, x):\n",
    "        return self.features_conv(x)"
   ]
  },
  {
   "cell_type": "code",
   "execution_count": 42,
   "id": "1c391dd7",
   "metadata": {},
   "outputs": [
    {
     "name": "stderr",
     "output_type": "stream",
     "text": [
      "Downloading: \"https://download.pytorch.org/models/vgg19-dcbb9e9d.pth\" to /pless_nfs/home/matthewrberning/.cache/torch/hub/checkpoints/vgg19-dcbb9e9d.pth\n"
     ]
    },
    {
     "data": {
      "application/vnd.jupyter.widget-view+json": {
       "model_id": "aafc5461c8d34a72a8ddb600d3e15810",
       "version_major": 2,
       "version_minor": 0
      },
      "text/plain": [
       "  0%|          | 0.00/548M [00:00<?, ?B/s]"
      ]
     },
     "metadata": {},
     "output_type": "display_data"
    }
   ],
   "source": [
    "# initialize the VGG model\n",
    "vgg = VGG()\n",
    "\n",
    "# set the evaluation mode\n",
    "vgg.eval()\n",
    "\n",
    "# get the image from the dataloader\n",
    "img, _ = next(iter(dataloader))\n",
    "\n",
    "# get the most likely prediction of the model\n",
    "pred = vgg(img).argmax(dim=1)"
   ]
  },
  {
   "cell_type": "code",
   "execution_count": 57,
   "id": "0b0c92a4",
   "metadata": {},
   "outputs": [],
   "source": [
    "pred = vgg(img)"
   ]
  },
  {
   "cell_type": "code",
   "execution_count": 59,
   "id": "371bf82c",
   "metadata": {},
   "outputs": [
    {
     "data": {
      "text/plain": [
       "<matplotlib.image.AxesImage at 0x7f20766897f0>"
      ]
     },
     "execution_count": 59,
     "metadata": {},
     "output_type": "execute_result"
    },
    {
     "data": {
      "image/png": "[encoded data removed]",
      "text/plain": [
       "<Figure size 288x288 with 1 Axes>"
      ]
     },
     "metadata": {
      "needs_background": "light"
     },
     "output_type": "display_data"
    }
   ],
   "source": [
    "# get the gradient of the output with respect to the parameters of the model\n",
    "pred[:, 998].backward() #this one is for the ImageNet class called 'ear, spike, capitulum'\n",
    "# pred[:, 386].backward() #this one is for elephants\n",
    "\n",
    "# pull the gradients out of the model\n",
    "gradients = vgg.get_activations_gradient()\n",
    "\n",
    "# pool the gradients across the channels\n",
    "pooled_gradients = torch.mean(gradients, dim=[0, 2, 3])\n",
    "\n",
    "# get the activations of the last convolutional layer\n",
    "activations = vgg.get_activations(img).detach()\n",
    "\n",
    "# weight the channels by corresponding gradients\n",
    "for i in range(512):\n",
    "    activations[:, i, :, :] *= pooled_gradients[i]\n",
    "    \n",
    "# average the channels of the activations\n",
    "heatmap = torch.mean(activations, dim=1).squeeze()\n",
    "\n",
    "# relu on top of the heatmap\n",
    "# expression (2) in https://arxiv.org/pdf/1610.02391.pdf\n",
    "heatmap = np.maximum(heatmap, 0)\n",
    "\n",
    "# normalize the heatmap\n",
    "heatmap /= torch.max(heatmap)\n",
    "\n",
    "# draw the heatmap\n",
    "plt.matshow(heatmap.squeeze())"
   ]
  },
  {
   "cell_type": "code",
   "execution_count": null,
   "id": "5bc82f5b",
   "metadata": {},
   "outputs": [],
   "source": [
    "import cv2\n",
    "img = cv2.imread('./data/Elephant/data/05fig34.jpg')\n",
    "heatmap = cv2.resize(heatmap, (img.shape[1], img.shape[0]))\n",
    "heatmap = np.uint8(255 * heatmap)\n",
    "heatmap = cv2.applyColorMap(heatmap, cv2.COLORMAP_JET)\n",
    "superimposed_img = heatmap * 0.4 + img\n",
    "cv2.imwrite('./map.jpg', superimposed_img)"
   ]
  },
  {
   "cell_type": "code",
   "execution_count": null,
   "id": "67eefde0",
   "metadata": {},
   "outputs": [],
   "source": []
  },
  {
   "cell_type": "code",
   "execution_count": null,
   "id": "9e4cbbea",
   "metadata": {},
   "outputs": [],
   "source": []
  },
  {
   "cell_type": "code",
   "execution_count": null,
   "id": "db5a28f1",
   "metadata": {},
   "outputs": [],
   "source": []
  },
  {
   "cell_type": "code",
   "execution_count": null,
   "id": "162dbed0",
   "metadata": {},
   "outputs": [],
   "source": []
  },
  {
   "cell_type": "code",
   "execution_count": null,
   "id": "1bff525e",
   "metadata": {},
   "outputs": [],
   "source": []
  },
  {
   "cell_type": "code",
   "execution_count": null,
   "id": "0e8b77fe",
   "metadata": {},
   "outputs": [],
   "source": []
  },
  {
   "cell_type": "code",
   "execution_count": 103,
   "id": "c1c90e6a",
   "metadata": {},
   "outputs": [],
   "source": [
    "from torchvision import models\n",
    "import torch.nn as nn"
   ]
  },
  {
   "cell_type": "code",
   "execution_count": 104,
   "id": "9936c0c9",
   "metadata": {},
   "outputs": [],
   "source": [
    "class CAMModel(nn.Module):\n",
    "    def __init__(self, state_dict_path):\n",
    "        super(CAMModel, self).__init__()\n",
    "        \n",
    "        # get the trained network\n",
    "        self.model = models.vgg16(pretrained=False)\n",
    "        \n",
    "        #collect the current set of input features\n",
    "        input_features = self.model.classifier[-1].in_features\n",
    "\n",
    "        #construct our custom classification layer\n",
    "        terminal_layer = nn.Linear(input_features, 2)\n",
    "\n",
    "        #replace the original final linear layer with ours\n",
    "        self.model.classifier[-1] = terminal_layer\n",
    "        \n",
    "        \n",
    "        #load the weights of the trained model\n",
    "        self.model.load_state_dict(torch.load(state_dict_path))\n",
    "        \n",
    "        # disect the network to access its last convolutional layer\n",
    "        self.features_conv = self.model.features[:30]\n",
    "        \n",
    "        #create a maxpooling operation -identical to existing operation\n",
    "        self.max_pool = nn.MaxPool2d(kernel_size=2, stride=2, padding=0, dilation=1, ceil_mode=False)\n",
    "        \n",
    "        \n",
    "        \n",
    "        # get the classifier layers of the vgg16 model\n",
    "        self.classifier = self.model.classifier\n",
    "        \n",
    "        #make a placeholder for the gradients to be collected\n",
    "        self.gradients = None\n",
    "    \n",
    "    # hook for the gradients of the activations\n",
    "    def activations_hook(self, grad):\n",
    "        self.gradients = grad\n",
    "        \n",
    "    def forward(self, x):\n",
    "        x = self.features_conv(x)\n",
    "        \n",
    "        # register the hook\n",
    "        h = x.register_hook(self.activations_hook)\n",
    "        \n",
    "        # apply the remaining pooling\n",
    "        x = self.max_pool(x)\n",
    "        x = x.view((1, -1))\n",
    "        x = self.classifier(x)\n",
    "        return x\n",
    "    \n",
    "    # method for the gradient extraction\n",
    "    def get_activations_gradient(self):\n",
    "        return self.gradients\n",
    "    \n",
    "    # method for the activation exctraction\n",
    "    def get_activations(self, x):\n",
    "        return self.features_conv(x)"
   ]
  },
  {
   "cell_type": "code",
   "execution_count": 105,
   "id": "ff64f63d",
   "metadata": {},
   "outputs": [],
   "source": [
    "cammodel = CAMModel('../runs/2021-12-05-13_42_22_model_epoch-10_val-acc-95.180.pth')"
   ]
  },
  {
   "cell_type": "code",
   "execution_count": 106,
   "id": "19e226e6",
   "metadata": {},
   "outputs": [
    {
     "data": {
      "text/plain": [
       "CAMModel(\n",
       "  (model): VGG(\n",
       "    (features): Sequential(\n",
       "      (0): Conv2d(3, 64, kernel_size=(3, 3), stride=(1, 1), padding=(1, 1))\n",
       "      (1): ReLU(inplace=True)\n",
       "      (2): Conv2d(64, 64, kernel_size=(3, 3), stride=(1, 1), padding=(1, 1))\n",
       "      (3): ReLU(inplace=True)\n",
       "      (4): MaxPool2d(kernel_size=2, stride=2, padding=0, dilation=1, ceil_mode=False)\n",
       "      (5): Conv2d(64, 128, kernel_size=(3, 3), stride=(1, 1), padding=(1, 1))\n",
       "      (6): ReLU(inplace=True)\n",
       "      (7): Conv2d(128, 128, kernel_size=(3, 3), stride=(1, 1), padding=(1, 1))\n",
       "      (8): ReLU(inplace=True)\n",
       "      (9): MaxPool2d(kernel_size=2, stride=2, padding=0, dilation=1, ceil_mode=False)\n",
       "      (10): Conv2d(128, 256, kernel_size=(3, 3), stride=(1, 1), padding=(1, 1))\n",
       "      (11): ReLU(inplace=True)\n",
       "      (12): Conv2d(256, 256, kernel_size=(3, 3), stride=(1, 1), padding=(1, 1))\n",
       "      (13): ReLU(inplace=True)\n",
       "      (14): Conv2d(256, 256, kernel_size=(3, 3), stride=(1, 1), padding=(1, 1))\n",
       "      (15): ReLU(inplace=True)\n",
       "      (16): MaxPool2d(kernel_size=2, stride=2, padding=0, dilation=1, ceil_mode=False)\n",
       "      (17): Conv2d(256, 512, kernel_size=(3, 3), stride=(1, 1), padding=(1, 1))\n",
       "      (18): ReLU(inplace=True)\n",
       "      (19): Conv2d(512, 512, kernel_size=(3, 3), stride=(1, 1), padding=(1, 1))\n",
       "      (20): ReLU(inplace=True)\n",
       "      (21): Conv2d(512, 512, kernel_size=(3, 3), stride=(1, 1), padding=(1, 1))\n",
       "      (22): ReLU(inplace=True)\n",
       "      (23): MaxPool2d(kernel_size=2, stride=2, padding=0, dilation=1, ceil_mode=False)\n",
       "      (24): Conv2d(512, 512, kernel_size=(3, 3), stride=(1, 1), padding=(1, 1))\n",
       "      (25): ReLU(inplace=True)\n",
       "      (26): Conv2d(512, 512, kernel_size=(3, 3), stride=(1, 1), padding=(1, 1))\n",
       "      (27): ReLU(inplace=True)\n",
       "      (28): Conv2d(512, 512, kernel_size=(3, 3), stride=(1, 1), padding=(1, 1))\n",
       "      (29): ReLU(inplace=True)\n",
       "      (30): MaxPool2d(kernel_size=2, stride=2, padding=0, dilation=1, ceil_mode=False)\n",
       "    )\n",
       "    (avgpool): AdaptiveAvgPool2d(output_size=(7, 7))\n",
       "    (classifier): Sequential(\n",
       "      (0): Linear(in_features=25088, out_features=4096, bias=True)\n",
       "      (1): ReLU(inplace=True)\n",
       "      (2): Dropout(p=0.5, inplace=False)\n",
       "      (3): Linear(in_features=4096, out_features=4096, bias=True)\n",
       "      (4): ReLU(inplace=True)\n",
       "      (5): Dropout(p=0.5, inplace=False)\n",
       "      (6): Linear(in_features=4096, out_features=2, bias=True)\n",
       "    )\n",
       "  )\n",
       "  (features_conv): Sequential(\n",
       "    (0): Conv2d(3, 64, kernel_size=(3, 3), stride=(1, 1), padding=(1, 1))\n",
       "    (1): ReLU(inplace=True)\n",
       "    (2): Conv2d(64, 64, kernel_size=(3, 3), stride=(1, 1), padding=(1, 1))\n",
       "    (3): ReLU(inplace=True)\n",
       "    (4): MaxPool2d(kernel_size=2, stride=2, padding=0, dilation=1, ceil_mode=False)\n",
       "    (5): Conv2d(64, 128, kernel_size=(3, 3), stride=(1, 1), padding=(1, 1))\n",
       "    (6): ReLU(inplace=True)\n",
       "    (7): Conv2d(128, 128, kernel_size=(3, 3), stride=(1, 1), padding=(1, 1))\n",
       "    (8): ReLU(inplace=True)\n",
       "    (9): MaxPool2d(kernel_size=2, stride=2, padding=0, dilation=1, ceil_mode=False)\n",
       "    (10): Conv2d(128, 256, kernel_size=(3, 3), stride=(1, 1), padding=(1, 1))\n",
       "    (11): ReLU(inplace=True)\n",
       "    (12): Conv2d(256, 256, kernel_size=(3, 3), stride=(1, 1), padding=(1, 1))\n",
       "    (13): ReLU(inplace=True)\n",
       "    (14): Conv2d(256, 256, kernel_size=(3, 3), stride=(1, 1), padding=(1, 1))\n",
       "    (15): ReLU(inplace=True)\n",
       "    (16): MaxPool2d(kernel_size=2, stride=2, padding=0, dilation=1, ceil_mode=False)\n",
       "    (17): Conv2d(256, 512, kernel_size=(3, 3), stride=(1, 1), padding=(1, 1))\n",
       "    (18): ReLU(inplace=True)\n",
       "    (19): Conv2d(512, 512, kernel_size=(3, 3), stride=(1, 1), padding=(1, 1))\n",
       "    (20): ReLU(inplace=True)\n",
       "    (21): Conv2d(512, 512, kernel_size=(3, 3), stride=(1, 1), padding=(1, 1))\n",
       "    (22): ReLU(inplace=True)\n",
       "    (23): MaxPool2d(kernel_size=2, stride=2, padding=0, dilation=1, ceil_mode=False)\n",
       "    (24): Conv2d(512, 512, kernel_size=(3, 3), stride=(1, 1), padding=(1, 1))\n",
       "    (25): ReLU(inplace=True)\n",
       "    (26): Conv2d(512, 512, kernel_size=(3, 3), stride=(1, 1), padding=(1, 1))\n",
       "    (27): ReLU(inplace=True)\n",
       "    (28): Conv2d(512, 512, kernel_size=(3, 3), stride=(1, 1), padding=(1, 1))\n",
       "    (29): ReLU(inplace=True)\n",
       "  )\n",
       "  (max_pool): MaxPool2d(kernel_size=2, stride=2, padding=0, dilation=1, ceil_mode=False)\n",
       "  (classifier): Sequential(\n",
       "    (0): Linear(in_features=25088, out_features=4096, bias=True)\n",
       "    (1): ReLU(inplace=True)\n",
       "    (2): Dropout(p=0.5, inplace=False)\n",
       "    (3): Linear(in_features=4096, out_features=4096, bias=True)\n",
       "    (4): ReLU(inplace=True)\n",
       "    (5): Dropout(p=0.5, inplace=False)\n",
       "    (6): Linear(in_features=4096, out_features=2, bias=True)\n",
       "  )\n",
       ")"
      ]
     },
     "execution_count": 106,
     "metadata": {},
     "output_type": "execute_result"
    }
   ],
   "source": [
    "cammodel.eval()"
   ]
  },
  {
   "cell_type": "code",
   "execution_count": 107,
   "id": "84189116",
   "metadata": {},
   "outputs": [],
   "source": [
    "img, _ = next(iter(dataloader))"
   ]
  },
  {
   "cell_type": "code",
   "execution_count": 108,
   "id": "7c9faff7",
   "metadata": {},
   "outputs": [],
   "source": [
    "pred = cammodel(img)"
   ]
  },
  {
   "cell_type": "code",
   "execution_count": 109,
   "id": "17cb23d9",
   "metadata": {},
   "outputs": [
    {
     "data": {
      "text/plain": [
       "tensor([[-1.8897,  2.0437]], grad_fn=<AddmmBackward>)"
      ]
     },
     "execution_count": 109,
     "metadata": {},
     "output_type": "execute_result"
    }
   ],
   "source": [
    "pred"
   ]
  },
  {
   "cell_type": "code",
   "execution_count": 110,
   "id": "cf5710ca",
   "metadata": {},
   "outputs": [
    {
     "data": {
      "text/plain": [
       "tensor([1])"
      ]
     },
     "execution_count": 110,
     "metadata": {},
     "output_type": "execute_result"
    }
   ],
   "source": [
    "pred.argmax(dim=1)"
   ]
  },
  {
   "cell_type": "code",
   "execution_count": 111,
   "id": "23972d9f",
   "metadata": {},
   "outputs": [],
   "source": [
    "pred[:,1].backward()"
   ]
  },
  {
   "cell_type": "code",
   "execution_count": 112,
   "id": "47eb401c",
   "metadata": {},
   "outputs": [],
   "source": [
    "gradients = cammodel.get_activations_gradient()"
   ]
  },
  {
   "cell_type": "code",
   "execution_count": 113,
   "id": "6cc462bf",
   "metadata": {},
   "outputs": [],
   "source": [
    "activations = cammodel.get_activations(img).detach()"
   ]
  },
  {
   "cell_type": "code",
   "execution_count": 114,
   "id": "5b0c6321",
   "metadata": {},
   "outputs": [
    {
     "data": {
      "text/plain": [
       "<matplotlib.image.AxesImage at 0x7f2075a96a30>"
      ]
     },
     "execution_count": 114,
     "metadata": {},
     "output_type": "execute_result"
    },
    {
     "data": {
      "image/png": "[encoded data removed]",
      "text/plain": [
       "<Figure size 288x288 with 1 Axes>"
      ]
     },
     "metadata": {
      "needs_background": "light"
     },
     "output_type": "display_data"
    }
   ],
   "source": [
    "for i in range(512):\n",
    "    activations[:, i, :, :] *= pooled_gradients[i]\n",
    "    \n",
    "heatmap = torch.mean(activations, dim=1).squeeze()\n",
    "\n",
    "# relu on top of the heatmap\n",
    "# expression (2) in https://arxiv.org/pdf/1610.02391.pdf\n",
    "heatmap = np.maximum(heatmap, 0)\n",
    "\n",
    "# normalize the heatmap\n",
    "heatmap /= torch.max(heatmap)\n",
    "\n",
    "# draw the heatmap\n",
    "plt.matshow(heatmap.squeeze())"
   ]
  },
  {
   "cell_type": "code",
   "execution_count": 116,
   "id": "241e8b19",
   "metadata": {},
   "outputs": [
    {
     "name": "stdout",
     "output_type": "stream",
     "text": [
      "(3, 224, 224)\n"
     ]
    },
    {
     "data": {
      "text/plain": [
       "<matplotlib.image.AxesImage at 0x7f2075a76790>"
      ]
     },
     "execution_count": 116,
     "metadata": {},
     "output_type": "execute_result"
    },
    {
     "data": {
      "image/png": "[encoded data removed]",
      "text/plain": [
       "<Figure size 288x288 with 1 Axes>"
      ]
     },
     "metadata": {
      "needs_background": "light"
     },
     "output_type": "display_data"
    }
   ],
   "source": [
    "tensor = img\n",
    "tensor = tensor.squeeze()\n",
    "\n",
    "image = tensor.clone().detach().cpu().numpy()\n",
    "print(image.shape)\n",
    "#re order the dimensionality for matplotlib\n",
    "image = image.transpose(1, 2, 0)\n",
    "\n",
    "image = image.clip(0,1)\n",
    "plt.matshow(image)"
   ]
  },
  {
   "cell_type": "code",
   "execution_count": null,
   "id": "014e5afa",
   "metadata": {},
   "outputs": [],
   "source": [
    "# get the gradient of the output with respect to the parameters of the model\n",
    "pred[:, 998].backward() #this one is for the ImageNet class called 'ear, spike, capitulum'\n",
    "# pred[:, 386].backward() #this one is for elephants\n",
    "\n",
    "# pull the gradients out of the model\n",
    "gradients = vgg.get_activations_gradient()\n",
    "\n",
    "# pool the gradients across the channels\n",
    "pooled_gradients = torch.mean(gradients, dim=[0, 2, 3])\n",
    "\n",
    "# get the activations of the last convolutional layer\n",
    "activations = vgg.get_activations(img).detach()\n",
    "\n",
    "# weight the channels by corresponding gradients\n",
    "for i in range(512):\n",
    "    activations[:, i, :, :] *= pooled_gradients[i]\n",
    "    \n",
    "# average the channels of the activations\n",
    "heatmap = torch.mean(activations, dim=1).squeeze()\n",
    "\n",
    "# relu on top of the heatmap\n",
    "# expression (2) in https://arxiv.org/pdf/1610.02391.pdf\n",
    "heatmap = np.maximum(heatmap, 0)\n",
    "\n",
    "# normalize the heatmap\n",
    "heatmap /= torch.max(heatmap)\n",
    "\n",
    "# draw the heatmap\n",
    "plt.matshow(heatmap.squeeze())"
   ]
  },
  {
   "cell_type": "code",
   "execution_count": null,
   "id": "0635e0f9",
   "metadata": {},
   "outputs": [],
   "source": []
  },
  {
   "cell_type": "code",
   "execution_count": null,
   "id": "c14fe9be",
   "metadata": {},
   "outputs": [],
   "source": []
  },
  {
   "cell_type": "code",
   "execution_count": null,
   "id": "e6bbf740",
   "metadata": {},
   "outputs": [],
   "source": []
  },
  {
   "cell_type": "code",
   "execution_count": 70,
   "id": "1fd836f7",
   "metadata": {},
   "outputs": [],
   "source": [
    "model = models.vgg16(pretrained=False)"
   ]
  },
  {
   "cell_type": "code",
   "execution_count": 71,
   "id": "e1dbfbcf",
   "metadata": {},
   "outputs": [
    {
     "name": "stdout",
     "output_type": "stream",
     "text": [
      "VGG(\n",
      "  (features): Sequential(\n",
      "    (0): Conv2d(3, 64, kernel_size=(3, 3), stride=(1, 1), padding=(1, 1))\n",
      "    (1): ReLU(inplace=True)\n",
      "    (2): Conv2d(64, 64, kernel_size=(3, 3), stride=(1, 1), padding=(1, 1))\n",
      "    (3): ReLU(inplace=True)\n",
      "    (4): MaxPool2d(kernel_size=2, stride=2, padding=0, dilation=1, ceil_mode=False)\n",
      "    (5): Conv2d(64, 128, kernel_size=(3, 3), stride=(1, 1), padding=(1, 1))\n",
      "    (6): ReLU(inplace=True)\n",
      "    (7): Conv2d(128, 128, kernel_size=(3, 3), stride=(1, 1), padding=(1, 1))\n",
      "    (8): ReLU(inplace=True)\n",
      "    (9): MaxPool2d(kernel_size=2, stride=2, padding=0, dilation=1, ceil_mode=False)\n",
      "    (10): Conv2d(128, 256, kernel_size=(3, 3), stride=(1, 1), padding=(1, 1))\n",
      "    (11): ReLU(inplace=True)\n",
      "    (12): Conv2d(256, 256, kernel_size=(3, 3), stride=(1, 1), padding=(1, 1))\n",
      "    (13): ReLU(inplace=True)\n",
      "    (14): Conv2d(256, 256, kernel_size=(3, 3), stride=(1, 1), padding=(1, 1))\n",
      "    (15): ReLU(inplace=True)\n",
      "    (16): MaxPool2d(kernel_size=2, stride=2, padding=0, dilation=1, ceil_mode=False)\n",
      "    (17): Conv2d(256, 512, kernel_size=(3, 3), stride=(1, 1), padding=(1, 1))\n",
      "    (18): ReLU(inplace=True)\n",
      "    (19): Conv2d(512, 512, kernel_size=(3, 3), stride=(1, 1), padding=(1, 1))\n",
      "    (20): ReLU(inplace=True)\n",
      "    (21): Conv2d(512, 512, kernel_size=(3, 3), stride=(1, 1), padding=(1, 1))\n",
      "    (22): ReLU(inplace=True)\n",
      "    (23): MaxPool2d(kernel_size=2, stride=2, padding=0, dilation=1, ceil_mode=False)\n",
      "    (24): Conv2d(512, 512, kernel_size=(3, 3), stride=(1, 1), padding=(1, 1))\n",
      "    (25): ReLU(inplace=True)\n",
      "    (26): Conv2d(512, 512, kernel_size=(3, 3), stride=(1, 1), padding=(1, 1))\n",
      "    (27): ReLU(inplace=True)\n",
      "    (28): Conv2d(512, 512, kernel_size=(3, 3), stride=(1, 1), padding=(1, 1))\n",
      "    (29): ReLU(inplace=True)\n",
      "    (30): MaxPool2d(kernel_size=2, stride=2, padding=0, dilation=1, ceil_mode=False)\n",
      "  )\n",
      "  (avgpool): AdaptiveAvgPool2d(output_size=(7, 7))\n",
      "  (classifier): Sequential(\n",
      "    (0): Linear(in_features=25088, out_features=4096, bias=True)\n",
      "    (1): ReLU(inplace=True)\n",
      "    (2): Dropout(p=0.5, inplace=False)\n",
      "    (3): Linear(in_features=4096, out_features=4096, bias=True)\n",
      "    (4): ReLU(inplace=True)\n",
      "    (5): Dropout(p=0.5, inplace=False)\n",
      "    (6): Linear(in_features=4096, out_features=1000, bias=True)\n",
      "  )\n",
      ")\n"
     ]
    }
   ],
   "source": [
    "print(model)"
   ]
  },
  {
   "cell_type": "code",
   "execution_count": 72,
   "id": "0f3f673a",
   "metadata": {},
   "outputs": [],
   "source": [
    "#collect the current set of input features\n",
    "input_features = model.classifier[-1].in_features\n",
    "\n",
    "#construct our custom classification layer\n",
    "terminal_layer = nn.Linear(input_features, 2)\n",
    "\n",
    "#replace the original final linear layer with ours\n",
    "model.classifier[-1] = terminal_layer"
   ]
  },
  {
   "cell_type": "code",
   "execution_count": 73,
   "id": "642b388d",
   "metadata": {},
   "outputs": [
    {
     "name": "stdout",
     "output_type": "stream",
     "text": [
      "VGG(\n",
      "  (features): Sequential(\n",
      "    (0): Conv2d(3, 64, kernel_size=(3, 3), stride=(1, 1), padding=(1, 1))\n",
      "    (1): ReLU(inplace=True)\n",
      "    (2): Conv2d(64, 64, kernel_size=(3, 3), stride=(1, 1), padding=(1, 1))\n",
      "    (3): ReLU(inplace=True)\n",
      "    (4): MaxPool2d(kernel_size=2, stride=2, padding=0, dilation=1, ceil_mode=False)\n",
      "    (5): Conv2d(64, 128, kernel_size=(3, 3), stride=(1, 1), padding=(1, 1))\n",
      "    (6): ReLU(inplace=True)\n",
      "    (7): Conv2d(128, 128, kernel_size=(3, 3), stride=(1, 1), padding=(1, 1))\n",
      "    (8): ReLU(inplace=True)\n",
      "    (9): MaxPool2d(kernel_size=2, stride=2, padding=0, dilation=1, ceil_mode=False)\n",
      "    (10): Conv2d(128, 256, kernel_size=(3, 3), stride=(1, 1), padding=(1, 1))\n",
      "    (11): ReLU(inplace=True)\n",
      "    (12): Conv2d(256, 256, kernel_size=(3, 3), stride=(1, 1), padding=(1, 1))\n",
      "    (13): ReLU(inplace=True)\n",
      "    (14): Conv2d(256, 256, kernel_size=(3, 3), stride=(1, 1), padding=(1, 1))\n",
      "    (15): ReLU(inplace=True)\n",
      "    (16): MaxPool2d(kernel_size=2, stride=2, padding=0, dilation=1, ceil_mode=False)\n",
      "    (17): Conv2d(256, 512, kernel_size=(3, 3), stride=(1, 1), padding=(1, 1))\n",
      "    (18): ReLU(inplace=True)\n",
      "    (19): Conv2d(512, 512, kernel_size=(3, 3), stride=(1, 1), padding=(1, 1))\n",
      "    (20): ReLU(inplace=True)\n",
      "    (21): Conv2d(512, 512, kernel_size=(3, 3), stride=(1, 1), padding=(1, 1))\n",
      "    (22): ReLU(inplace=True)\n",
      "    (23): MaxPool2d(kernel_size=2, stride=2, padding=0, dilation=1, ceil_mode=False)\n",
      "    (24): Conv2d(512, 512, kernel_size=(3, 3), stride=(1, 1), padding=(1, 1))\n",
      "    (25): ReLU(inplace=True)\n",
      "    (26): Conv2d(512, 512, kernel_size=(3, 3), stride=(1, 1), padding=(1, 1))\n",
      "    (27): ReLU(inplace=True)\n",
      "    (28): Conv2d(512, 512, kernel_size=(3, 3), stride=(1, 1), padding=(1, 1))\n",
      "    (29): ReLU(inplace=True)\n",
      "    (30): MaxPool2d(kernel_size=2, stride=2, padding=0, dilation=1, ceil_mode=False)\n",
      "  )\n",
      "  (avgpool): AdaptiveAvgPool2d(output_size=(7, 7))\n",
      "  (classifier): Sequential(\n",
      "    (0): Linear(in_features=25088, out_features=4096, bias=True)\n",
      "    (1): ReLU(inplace=True)\n",
      "    (2): Dropout(p=0.5, inplace=False)\n",
      "    (3): Linear(in_features=4096, out_features=4096, bias=True)\n",
      "    (4): ReLU(inplace=True)\n",
      "    (5): Dropout(p=0.5, inplace=False)\n",
      "    (6): Linear(in_features=4096, out_features=2, bias=True)\n",
      "  )\n",
      ")\n"
     ]
    }
   ],
   "source": [
    "print(model)"
   ]
  },
  {
   "cell_type": "code",
   "execution_count": 74,
   "id": "12637e31",
   "metadata": {},
   "outputs": [
    {
     "data": {
      "text/plain": [
       "<All keys matched successfully>"
      ]
     },
     "execution_count": 74,
     "metadata": {},
     "output_type": "execute_result"
    }
   ],
   "source": [
    "model.load_state_dict(torch.load('../runs/2021-12-05-13_42_22_model_epoch-10_val-acc-95.180.pth'))"
   ]
  },
  {
   "cell_type": "code",
   "execution_count": null,
   "id": "70df41e0",
   "metadata": {},
   "outputs": [],
   "source": []
  },
  {
   "cell_type": "code",
   "execution_count": null,
   "id": "504d4435",
   "metadata": {},
   "outputs": [],
   "source": []
  },
  {
   "cell_type": "code",
   "execution_count": null,
   "id": "c74aba5d",
   "metadata": {},
   "outputs": [],
   "source": []
  },
  {
   "cell_type": "code",
   "execution_count": null,
   "id": "5596f3dc",
   "metadata": {},
   "outputs": [],
   "source": []
  },
  {
   "cell_type": "code",
   "execution_count": null,
   "id": "0c167ce6",
   "metadata": {},
   "outputs": [],
   "source": []
  },
  {
   "cell_type": "code",
   "execution_count": null,
   "id": "0967c39d",
   "metadata": {},
   "outputs": [],
   "source": []
  },
  {
   "cell_type": "code",
   "execution_count": 64,
   "id": "0f695644",
   "metadata": {},
   "outputs": [],
   "source": [
    "model9 = models.vgg19(pretrained=True)"
   ]
  },
  {
   "cell_type": "code",
   "execution_count": 66,
   "id": "a2a1c711",
   "metadata": {},
   "outputs": [
    {
     "name": "stdout",
     "output_type": "stream",
     "text": [
      "VGG(\n",
      "  (features): Sequential(\n",
      "    (0): Conv2d(3, 64, kernel_size=(3, 3), stride=(1, 1), padding=(1, 1))\n",
      "    (1): ReLU(inplace=True)\n",
      "    (2): Conv2d(64, 64, kernel_size=(3, 3), stride=(1, 1), padding=(1, 1))\n",
      "    (3): ReLU(inplace=True)\n",
      "    (4): MaxPool2d(kernel_size=2, stride=2, padding=0, dilation=1, ceil_mode=False)\n",
      "    (5): Conv2d(64, 128, kernel_size=(3, 3), stride=(1, 1), padding=(1, 1))\n",
      "    (6): ReLU(inplace=True)\n",
      "    (7): Conv2d(128, 128, kernel_size=(3, 3), stride=(1, 1), padding=(1, 1))\n",
      "    (8): ReLU(inplace=True)\n",
      "    (9): MaxPool2d(kernel_size=2, stride=2, padding=0, dilation=1, ceil_mode=False)\n",
      "    (10): Conv2d(128, 256, kernel_size=(3, 3), stride=(1, 1), padding=(1, 1))\n",
      "    (11): ReLU(inplace=True)\n",
      "    (12): Conv2d(256, 256, kernel_size=(3, 3), stride=(1, 1), padding=(1, 1))\n",
      "    (13): ReLU(inplace=True)\n",
      "    (14): Conv2d(256, 256, kernel_size=(3, 3), stride=(1, 1), padding=(1, 1))\n",
      "    (15): ReLU(inplace=True)\n",
      "    (16): Conv2d(256, 256, kernel_size=(3, 3), stride=(1, 1), padding=(1, 1))\n",
      "    (17): ReLU(inplace=True)\n",
      "    (18): MaxPool2d(kernel_size=2, stride=2, padding=0, dilation=1, ceil_mode=False)\n",
      "    (19): Conv2d(256, 512, kernel_size=(3, 3), stride=(1, 1), padding=(1, 1))\n",
      "    (20): ReLU(inplace=True)\n",
      "    (21): Conv2d(512, 512, kernel_size=(3, 3), stride=(1, 1), padding=(1, 1))\n",
      "    (22): ReLU(inplace=True)\n",
      "    (23): Conv2d(512, 512, kernel_size=(3, 3), stride=(1, 1), padding=(1, 1))\n",
      "    (24): ReLU(inplace=True)\n",
      "    (25): Conv2d(512, 512, kernel_size=(3, 3), stride=(1, 1), padding=(1, 1))\n",
      "    (26): ReLU(inplace=True)\n",
      "    (27): MaxPool2d(kernel_size=2, stride=2, padding=0, dilation=1, ceil_mode=False)\n",
      "    (28): Conv2d(512, 512, kernel_size=(3, 3), stride=(1, 1), padding=(1, 1))\n",
      "    (29): ReLU(inplace=True)\n",
      "    (30): Conv2d(512, 512, kernel_size=(3, 3), stride=(1, 1), padding=(1, 1))\n",
      "    (31): ReLU(inplace=True)\n",
      "    (32): Conv2d(512, 512, kernel_size=(3, 3), stride=(1, 1), padding=(1, 1))\n",
      "    (33): ReLU(inplace=True)\n",
      "    (34): Conv2d(512, 512, kernel_size=(3, 3), stride=(1, 1), padding=(1, 1))\n",
      "    (35): ReLU(inplace=True)\n",
      "    (36): MaxPool2d(kernel_size=2, stride=2, padding=0, dilation=1, ceil_mode=False)\n",
      "  )\n",
      "  (avgpool): AdaptiveAvgPool2d(output_size=(7, 7))\n",
      "  (classifier): Sequential(\n",
      "    (0): Linear(in_features=25088, out_features=4096, bias=True)\n",
      "    (1): ReLU(inplace=True)\n",
      "    (2): Dropout(p=0.5, inplace=False)\n",
      "    (3): Linear(in_features=4096, out_features=4096, bias=True)\n",
      "    (4): ReLU(inplace=True)\n",
      "    (5): Dropout(p=0.5, inplace=False)\n",
      "    (6): Linear(in_features=4096, out_features=1000, bias=True)\n",
      "  )\n",
      ")\n"
     ]
    }
   ],
   "source": [
    "print(model9)"
   ]
  },
  {
   "cell_type": "code",
   "execution_count": null,
   "id": "81ece944",
   "metadata": {},
   "outputs": [],
   "source": []
  }
 ],
 "metadata": {
  "kernelspec": {
   "display_name": "Python [conda env:awnClass38]",
   "language": "python",
   "name": "conda-env-awnClass38-py"
  },
  "language_info": {
   "codemirror_mode": {
    "name": "ipython",
    "version": 3
   },
   "file_extension": ".py",
   "mimetype": "text/x-python",
   "name": "python",
   "nbconvert_exporter": "python",
   "pygments_lexer": "ipython3",
   "version": "3.8.12"
  }
 },
 "nbformat": 4,
 "nbformat_minor": 5
}
