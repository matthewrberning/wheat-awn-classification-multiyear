{
 "cells": [
  {
   "cell_type": "code",
   "execution_count": 64,
   "id": "9502f7b7",
   "metadata": {},
   "outputs": [],
   "source": [
    "import os\n",
    "os.environ[\"CUDA_VISIBLE_DEVICES\"] = \"3\"\n",
    "import sys\n",
    "import time\n",
    "\n",
    "from model import Model\n",
    "from dataset import WheatAwnDataset\n",
    "\n",
    "from tqdm import tqdm\n",
    "import torch\n",
    "import torch.nn as nn\n",
    "import torchvision\n",
    "from torch.utils.data import DataLoader\n",
    "from torchvision import transforms\n",
    "import PIL\n",
    "import pickle\n",
    "import matplotlib.pyplot as plt\n",
    "from datetime import datetime\n",
    "from sklearn.metrics import confusion_matrix"
   ]
  },
  {
   "cell_type": "code",
   "execution_count": 70,
   "id": "32609303",
   "metadata": {},
   "outputs": [],
   "source": [
    "def plot_training_history(history_dict_pkl_path):\n",
    "    '''helper function to take a history dictionary pickel file and plot it\n",
    "    \n",
    "    history dict structure:\n",
    "    \n",
    "                 h_d = {'date': current_time,\n",
    "                        'epochs': epoch+1,\n",
    "                        'training_loss_history':training_loss_history,\n",
    "                        'training_accuracy_history':training_accuracy_history,\n",
    "                        'validation_loss_history':validation_loss_history,\n",
    "                        'validation_accuracy_history':validation_accuracy_history,\n",
    "                        'exposure_training_loss_history': exposure_training_loss_history,\n",
    "                        'exposure_training_accuracy_history': exposure_training_accuracy_history,\n",
    "                        'exposure_validation_loss_history': exposure_validation_loss_history,\n",
    "                        'exposure_validation_accuracy_history': exposure_validation_accuracy_history}\n",
    "    \n",
    "    '''\n",
    "    \n",
    "    with open(history_dict_pkl_path, 'rb') as f:\n",
    "        history_dict = pickle.load(f)\n",
    "    \n",
    "\n",
    "                            \n",
    "                            \n",
    "    fig = plt.figure(figsize=(20,8))\n",
    "\n",
    "    ax = fig.add_subplot(1, 2, 1)\n",
    "    ax.set_title(\"Training/Validation Loss across Epochs\")\n",
    "    plt.scatter([-0.1], history_dict['exposure_training_loss_history'], c='darkblue', marker=\"P\", label='EXP-train-loss')\n",
    "    plt.scatter([-0.1], history_dict['exposure_validation_loss_history'], c='orangered', marker=\"X\", label= 'EXP-val-loss')\n",
    "    plt.plot(range(history_dict['epochs']), history_dict['training_loss_history'], label='train-loss')\n",
    "    plt.plot(range(history_dict['epochs']), history_dict['validation_loss_history'], label= 'validation-loss')\n",
    "    \n",
    "    plt.ylabel('Training/Validation Loss')\n",
    "    plt.xlabel('Epochs')\n",
    "    plt.legend(loc='best')\n",
    "\n",
    "    ax = fig.add_subplot(1, 2, 2)\n",
    "    ax.set_title(\"Training/Validation Accuracy across Epochs\")\n",
    "    plt.scatter([-0.1], history_dict['exposure_training_accuracy_history'],c='darkblue', marker=\"P\", label='EXP-train-accuracy')\n",
    "    plt.scatter([-0.1], history_dict['exposure_validation_accuracy_history'], c='orangered', marker=\"X\", label= 'EXP-val-accuracy')\n",
    "    plt.plot(range(history_dict['epochs']), history_dict['training_accuracy_history'], label='train-accuracy')\n",
    "    plt.plot(range(history_dict['epochs']), history_dict['validation_accuracy_history'], label= 'validation-accuracy')\n",
    "    plt.ylabel('Training/Validation accuracy')\n",
    "    plt.xlabel('Epochs')\n",
    "    plt.legend(loc='best')\n",
    "    \n",
    "    fig.suptitle(f\"Training Run Loss/Accuracy History {history_dict_pkl_path.split('/')[-1].split('training')[0]}\")\n",
    "    \n",
    "    plt.show()"
   ]
  },
  {
   "cell_type": "code",
   "execution_count": 81,
   "id": "e2d86372",
   "metadata": {},
   "outputs": [],
   "source": [
    "def get_confusion_matrix_for_dataset(data_csv, batch_size, saved_model):\n",
    "    '''\n",
    "    helper function to wrap up generating a dataloader, collecting\n",
    "    predictions, and plotting a confusion matrix for a specific dataset\n",
    "    '''\n",
    "    \n",
    "    #collect test dataset and create loader iterable-object\n",
    "    dataset_path = '/pless_nfs/home/matthewrberning/multi-year-cult-class/data/preprocessed/'\n",
    "    \n",
    "    transform = transforms.Compose([transforms.ToTensor()])\n",
    "\n",
    "    data = WheatAwnDataset(csv_filepath=data_csv, dataset_dir=dataset_path, transform=transform)\n",
    "    dataloader = DataLoader(data, batch_size=batch_size, shuffle=False)\n",
    "    \n",
    "    #track the correct predictions\n",
    "    corrects = 0.0\n",
    "\n",
    "    #set model mode\n",
    "    saved_model.eval()\n",
    "\n",
    "    # Get the predictions/GT's for the confusion matrix\n",
    "    predictions = []\n",
    "    ground_truths = []\n",
    "\n",
    "    #make sure to not accumulate gradients\n",
    "    with torch.no_grad():\n",
    "\n",
    "        progress_bar = tqdm(dataloader, total=int(len(dataloader)), desc='[validation] Progress: ')\n",
    "\n",
    "        for step, data in enumerate(progress_bar):\n",
    "\n",
    "            #unpack the data from the progress bar\n",
    "            images, labels = data[0], data[1]\n",
    "\n",
    "            #send the tensors to the device (GPU)\n",
    "            images = images.to(device)\n",
    "            labels = labels.to(device)\n",
    "\n",
    "            #images = images.float() #uncomment if using read_image() from torch\n",
    "            outputs = saved_model(images)\n",
    "\n",
    "            #find the predicted classes indicies\n",
    "            _, preds = torch.max(outputs, 1)\n",
    "\n",
    "            #track the correct predictions\n",
    "            corrects += torch.sum(preds == labels.data).item()\n",
    "\n",
    "            ground_truths.extend(list(labels.cpu().numpy()))\n",
    "            predictions.extend(list(preds.cpu().numpy()))\n",
    "            \n",
    "    #calculate the accuracy \n",
    "    accuracy = (corrects/len(dataloader.dataset))*100\n",
    "    accuracy = \"{:5.2f}\".format(accuracy)\n",
    "    print(\"accuracy: \", accuracy)\n",
    "    print('\\n')\n",
    "    print(\"predictions:   \", len(predictions))\n",
    "    print(\"ground truths: \", len(ground_truths))\n",
    "    \n",
    "    # Calculate the confusion matrix\n",
    "    conf_matrix = confusion_matrix(y_true=ground_truths, y_pred=predictions)\n",
    "    \n",
    "    # Print the confusion matrix using Matplotlib\n",
    "    fig, ax = plt.subplots(figsize=(7.5, 7.5))\n",
    "    ax.matshow(conf_matrix, cmap=plt.cm.Blues, alpha=0.3)\n",
    "    for i in range(conf_matrix.shape[0]):\n",
    "        for j in range(conf_matrix.shape[1]):\n",
    "            ax.text(x=j, y=i,s=conf_matrix[i, j], va='center', ha='center', size='xx-large')\n",
    "\n",
    "    plt.xlabel('Predictions', fontsize=18)\n",
    "    plt.ylabel('Actuals', fontsize=18)\n",
    "    plt.title('Confusion Matrix - Validation Set', fontsize=18)\n",
    "    plt.show()"
   ]
  },
  {
   "cell_type": "markdown",
   "id": "bd39e9cf",
   "metadata": {},
   "source": [
    "### This Notebook will be used to Evaluate Trained Models on Testing Data\n",
    "-both 2020 and 2019 testing data will be used<br/>-we will also use it to visualize model performance<br/>-we can also directly compare variout trained models<br/>-each evaluation block will start with a markdown cell containing the **\"path/to/the/model's/state_dtict.pth\"** file as well as the hyper parmeters used"
   ]
  },
  {
   "cell_type": "code",
   "execution_count": 65,
   "id": "f12d6f0c",
   "metadata": {},
   "outputs": [
    {
     "name": "stdout",
     "output_type": "stream",
     "text": [
      "file: test_loss_accuracy-plot.jpg\n",
      " time: 2021-10-17 14:56:08.634031\n",
      "\n",
      "file: 2021-10-17-15_24_58_loss_accuracy-plot.jpg\n",
      " time: 2021-10-17 15:24:58.844047\n",
      "\n",
      "file: 2021-10-17-15_27_56_loss_accuracy-plot.jpg\n",
      " time: 2021-10-17 15:27:56.908515\n",
      "\n",
      "file: 2021-10-17-16_03_58_loss_accuracy-plot.jpg\n",
      " time: 2021-10-17 16:03:58.574784\n",
      "\n",
      "file: 2021-10-19-12_20_00_loss_accuracy-plot.jpg\n",
      " time: 2021-10-19 12:23:38.676288\n",
      "\n",
      "file: 2021-10-19-12_43_19_loss_accuracy-plot.jpg\n",
      " time: 2021-10-19 12:43:48.781290\n",
      "\n",
      "file: 2021-10-19-12_45_24_loss_accuracy-plot.jpg\n",
      " time: 2021-10-19 12:45:53.247819\n",
      "\n",
      "file: 2021-10-19-12_47_53_loss_accuracy-plot.jpg\n",
      " time: 2021-10-19 12:48:22.072233\n",
      "\n",
      "file: 2021-10-19-12_49_28_loss_accuracy-plot.jpg\n",
      " time: 2021-10-19 12:49:58.360736\n",
      "\n",
      "file: 2021-10-19-13_01_59_loss_accuracy-plot.jpg\n",
      " time: 2021-10-19 13:02:28.148023\n",
      "\n",
      "file: 2021-10-19-13_04_30_loss_accuracy-plot.jpg\n",
      " time: 2021-10-19 13:04:53.676319\n",
      "\n",
      "file: 2021-10-19-13_05_34_loss_accuracy-plot.jpg\n",
      " time: 2021-10-19 13:06:02.199813\n",
      "\n",
      "file: 2021-10-19-13_16_11_loss_accuracy-plot.jpg\n",
      " time: 2021-10-19 13:16:40.584022\n",
      "\n",
      "file: 2021-10-19-21_50_36_loss_accuracy-plot.jpg\n",
      " time: 2021-10-19 21:51:32.457366\n",
      "\n",
      "file: 2021-10-19-21_51_55_loss_accuracy-plot.jpg\n",
      " time: 2021-10-19 21:52:50.803348\n",
      "\n",
      "file: 2021-10-20-06_44_27_loss_accuracy-plot.jpg\n",
      " time: 2021-10-20 20:45:14.098132\n",
      "\n",
      "file: 2021-10-21-17_52_20_loss_accuracy-plot.jpg\n",
      " time: 2021-10-23 00:20:34.106854\n",
      "\n",
      "file: 2021-10-23-15_22_30_loss_accuracy-plot.jpg\n",
      " time: 2021-10-23 15:22:45.761921\n",
      "\n",
      "file: 2021-10-23-15_34_37_loss_accuracy-plot.jpg\n",
      " time: 2021-10-23 15:34:47.365235\n",
      "\n",
      "file: 2021-10-23-15_35_26_loss_accuracy-plot.jpg\n",
      " time: 2021-10-23 15:35:33.472916\n",
      "\n",
      "file: 2021-10-23-15_36_51_loss_accuracy-plot.jpg\n",
      " time: 2021-10-23 15:36:59.009034\n",
      "\n",
      "file: 2021-10-23-15_38_24_loss_accuracy-plot.jpg\n",
      " time: 2021-10-23 15:38:31.638411\n",
      "\n",
      "file: 2021-10-23-15_53_17_loss_accuracy-plot.jpg\n",
      " time: 2021-10-23 15:53:24.910975\n",
      "\n",
      "file: 2021-10-23-16_05_39_loss_accuracy-plot.jpg\n",
      " time: 2021-10-23 16:05:46.160002\n",
      "\n",
      "file: 2021-10-23-16_30_54_loss_accuracy-plot.jpg\n",
      " time: 2021-10-23 16:31:16.063781\n",
      "\n"
     ]
    }
   ],
   "source": [
    "#sort image files (accuracy vs loss plots)\n",
    "search_dir = \"/pless_nfs/home/matthewrberning/wheat-awn-classification-multiyear/runs/\"\n",
    "os.chdir(search_dir)\n",
    "plot_files = filter(os.path.isfile, os.listdir(search_dir))\n",
    "plot_files = [os.path.join(search_dir, f) for f in plot_files]# add path to each file\n",
    "\n",
    "plot_files = [file for file in plot_files if file.endswith('.jpg')]\n",
    "plot_files.sort(key=lambda x: os.path.getmtime(x))\n",
    "\n",
    "for file in plot_files:\n",
    "    print(f\"file: {file.split('/')[-1]}\\n time: {datetime.fromtimestamp(os.path.getmtime(file))}\\n\")"
   ]
  },
  {
   "cell_type": "code",
   "execution_count": 66,
   "id": "de092188",
   "metadata": {},
   "outputs": [
    {
     "name": "stdout",
     "output_type": "stream",
     "text": [
      "file: 2021-10-20-06_44_27_model_epoch-5.pth\n",
      " time: 2021-10-20 16:22:36.356746\n",
      "\n",
      "file: 2021-10-20-06_44_27_model_epoch-9.pth\n",
      " time: 2021-10-20 20:45:13.169098\n",
      "\n",
      "file: 2021-10-21-17_52_20_model_epoch-5.pth\n",
      " time: 2021-10-22 08:07:32.663433\n",
      "\n",
      "file: 2021-10-21-17_52_20_model_epoch-9.pth\n",
      " time: 2021-10-23 00:20:33.535833\n",
      "\n",
      "file: 2021-10-23-16_47_15_model_epoch-2_val-acc-90.148.pth\n",
      " time: 2021-10-23 22:48:31.256144\n",
      "\n",
      "file: 2021-10-23-16_47_15_model_epoch-3_val-acc-90.161.pth\n",
      " time: 2021-10-24 00:52:14.608295\n",
      "\n",
      "file: 2021-10-23-16_47_15_model_epoch-4_val-acc-90.352.pth\n",
      " time: 2021-10-24 02:55:27.114152\n",
      "\n",
      "file: 2021-10-23-16_47_15_model_epoch-5_val-acc-90.269.pth\n",
      " time: 2021-10-24 04:58:57.548441\n",
      "\n",
      "file: 2021-10-23-16_47_15_model_epoch-6_val-acc-89.732.pth\n",
      " time: 2021-10-24 07:02:16.912346\n",
      "\n"
     ]
    }
   ],
   "source": [
    "#sort state_dict (.pth) files in runs dir\n",
    "search_dir = \"/pless_nfs/home/matthewrberning/wheat-awn-classification-multiyear/runs/\"\n",
    "os.chdir(search_dir)\n",
    "pth_files = filter(os.path.isfile, os.listdir(search_dir))\n",
    "pth_files = [os.path.join(search_dir, f) for f in pth_files]# add path to each file\n",
    "\n",
    "pth_files = [file for file in pth_files if file.endswith('.pth')] #only get model files\n",
    "pth_files.sort(key=lambda x: os.path.getmtime(x))\n",
    "\n",
    "for file in pth_files:\n",
    "    print(f\"file: {file.split('/')[-1]}\\n time: {datetime.fromtimestamp(os.path.getmtime(file))}\\n\")"
   ]
  },
  {
   "cell_type": "code",
   "execution_count": 69,
   "id": "d104c937",
   "metadata": {},
   "outputs": [
    {
     "name": "stdout",
     "output_type": "stream",
     "text": [
      "file: 2021-10-23-15_52_39_training_history.pkl\n",
      " time: 2021-10-23 15:52:44.139489\n",
      "\n",
      "file: 2021-10-23-15_53_17_training_history.pkl\n",
      " time: 2021-10-23 16:00:27.197370\n",
      "\n",
      "file: 2021-10-23-15_53_18_training_history.pkl\n",
      " time: 2021-10-23 16:00:44.470999\n",
      "\n",
      "file: 2021-10-23-16_05_39_training_history.pkl\n",
      " time: 2021-10-23 16:05:45.980995\n",
      "\n",
      "file: 2021-10-23-16_30_54_training_history.pkl\n",
      " time: 2021-10-23 16:31:15.886774\n",
      "\n",
      "file: 2021-10-23-16_47_15_training_history.pkl\n",
      " time: 2021-10-24 07:02:14.425256\n",
      "\n"
     ]
    }
   ],
   "source": [
    "#sort state_dict (.pth) files in runs dir\n",
    "search_dir = \"/pless_nfs/home/matthewrberning/wheat-awn-classification-multiyear/runs/\"\n",
    "os.chdir(search_dir)\n",
    "pkl_files = filter(os.path.isfile, os.listdir(search_dir))\n",
    "pkl_files = [os.path.join(search_dir, f) for f in pkl_files]# add path to each file\n",
    "\n",
    "pkl_files = [file for file in pkl_files if file.endswith('.pkl')] #only get model files\n",
    "pkl_files.sort(key=lambda x: os.path.getmtime(x))\n",
    "\n",
    "for file in pkl_files:\n",
    "    print(f\"file: {file.split('/')[-1]}\\n time: {datetime.fromtimestamp(os.path.getmtime(file))}\\n\")"
   ]
  },
  {
   "cell_type": "markdown",
   "id": "5c25a984",
   "metadata": {},
   "source": [
    "### model training: 2021-10-20\n",
    "**lr** = 0.00001 (no scheduler)<br/>**batch_size** = 32<br/>**epochs** = 10<br/>**train dataset:** '/pless_nfs/home/matthewrberning/wheat-awn-classification-multiyear/data/2019_train_awns_oversampled.csv'<br/>**validation dataset:** '/pless_nfs/home/matthewrberning/wheat-awn-classification-multiyear/data/2019_val_awns_oversampled.csv'<br/>**model state_dicts:** '/pless_nfs/home/matthewrberning/wheat-awn-classification-multiyear/runs/2021-10-23-16_47_15_model_epoch-2_val-acc-90.148.pth, 2021-10-23-16_47_15_model_epoch-3_val-acc-90.161.pth, 2021-10-23-16_47_15_model_epoch-4_val-acc-90.352.pth, 2021-10-23-16_47_15_model_epoch-5_val-acc-90.269.pth, 2021-10-23-16_47_15_model_epoch-6_val-acc-89.732.pth<br/>**Note:** no dataset normalization was used during training\n",
    "\n"
   ]
  },
  {
   "cell_type": "code",
   "execution_count": 71,
   "id": "6b281b40",
   "metadata": {},
   "outputs": [
    {
     "data": {
      "image/png": "[encoded data removed]",
      "text/plain": [
       "<Figure size 1440x576 with 2 Axes>"
      ]
     },
     "metadata": {
      "needs_background": "light"
     },
     "output_type": "display_data"
    }
   ],
   "source": [
    "#training history plot for the run\n",
    "plot_training_history(history_dict_pkl_path=pkl_files[-1])"
   ]
  },
  {
   "cell_type": "code",
   "execution_count": 72,
   "id": "bb8ab261",
   "metadata": {},
   "outputs": [
    {
     "name": "stdout",
     "output_type": "stream",
     "text": [
      "loading model from: /pless_nfs/home/matthewrberning/wheat-awn-classification-multiyear/runs/2021-10-23-16_47_15_model_epoch-6_val-acc-89.732.pth\n"
     ]
    },
    {
     "data": {
      "text/plain": [
       "<All keys matched successfully>"
      ]
     },
     "execution_count": 72,
     "metadata": {},
     "output_type": "execute_result"
    }
   ],
   "source": [
    "#instantiate the model\n",
    "print(f\"loading model from: {pth_files[-1]}\")\n",
    "saved_model = Model().construct_model(verbose=False)\n",
    "saved_model.load_state_dict(torch.load('/pless_nfs/home/matthewrberning/wheat-awn-classification-multiyear/runs/2021-10-23-16_47_15_model_epoch-4_val-acc-90.352.pth'))"
   ]
  },
  {
   "cell_type": "code",
   "execution_count": 73,
   "id": "f5ff69c4",
   "metadata": {},
   "outputs": [],
   "source": [
    "#send the model to the GPU\n",
    "device = torch.device(\"cuda:0\" if torch.cuda.is_available() else \"cpu\")\n",
    "saved_model = saved_model.to(device)"
   ]
  },
  {
   "cell_type": "markdown",
   "id": "b837bd79",
   "metadata": {},
   "source": [
    "#### verify the accuracy acheived on the validation set (used during training)"
   ]
  },
  {
   "cell_type": "code",
   "execution_count": 74,
   "id": "d950f3fb",
   "metadata": {},
   "outputs": [
    {
     "name": "stdout",
     "output_type": "stream",
     "text": [
      "data file \"2019_val_awns_oversampled.csv\" contains 157052 rows\n"
     ]
    }
   ],
   "source": [
    "#collect test dataset and create loader iterable-object\n",
    "dataset_path = '/pless_nfs/home/matthewrberning/multi-year-cult-class/data/preprocessed/'\n",
    "data_csv = '/pless_nfs/home/matthewrberning/wheat-awn-classification-multiyear/data/2019_val_awns_oversampled.csv'\n",
    "batch_size = 64\n",
    "\n",
    "transform = transforms.Compose([transforms.ToTensor()])\n",
    "\n",
    "data = WheatAwnDataset(csv_filepath=data_csv, dataset_dir=dataset_path, transform=transform)\n",
    "dataloader = DataLoader(data, batch_size=batch_size, shuffle=False)"
   ]
  },
  {
   "cell_type": "code",
   "execution_count": 75,
   "id": "fbccbadf",
   "metadata": {},
   "outputs": [
    {
     "name": "stderr",
     "output_type": "stream",
     "text": [
      "[validation] Progress: 100%|██████████| 2454/2454 [20:44<00:00,  1.97it/s]\n"
     ]
    }
   ],
   "source": [
    "#track the correct predictions\n",
    "corrects = 0.0\n",
    "\n",
    "#set model mode\n",
    "saved_model.eval()\n",
    "\n",
    "# Get the predictions/GT's for the confusion matrix\n",
    "predictions = []\n",
    "ground_truths = []\n",
    "\n",
    "#make sure to not accumulate gradients\n",
    "with torch.no_grad():\n",
    "    \n",
    "    progress_bar = tqdm(dataloader, total=int(len(dataloader)), desc='[validation] Progress: ')\n",
    "\n",
    "    for step, data in enumerate(progress_bar):\n",
    "\n",
    "        #unpack the data from the progress bar\n",
    "        images, labels = data[0], data[1]\n",
    "\n",
    "        #send the tensors to the device (GPU)\n",
    "        images = images.to(device)\n",
    "        labels = labels.to(device)\n",
    "\n",
    "        #images = images.float() #uncomment if using read_image() from torch\n",
    "        outputs = saved_model(images)\n",
    "\n",
    "        #find the predicted classes indicies\n",
    "        _, preds = torch.max(outputs, 1)\n",
    "\n",
    "        #track the correct predictions\n",
    "        corrects += torch.sum(preds == labels.data).item()\n",
    "        \n",
    "        ground_truths.extend(list(labels.cpu().numpy()))\n",
    "        predictions.extend(list(preds.cpu().numpy()))"
   ]
  },
  {
   "cell_type": "code",
   "execution_count": 76,
   "id": "10e27011",
   "metadata": {},
   "outputs": [
    {
     "name": "stdout",
     "output_type": "stream",
     "text": [
      "accuracy:  90.35\n",
      "\n",
      "\n",
      "predictions:    157052\n",
      "ground truths:  157052\n"
     ]
    }
   ],
   "source": [
    "#calculate the accuracy \n",
    "accuracy = (corrects/len(dataloader.dataset))*100\n",
    "accuracy = \"{:5.2f}\".format(accuracy)\n",
    "print(\"accuracy: \", accuracy)\n",
    "print('\\n')\n",
    "print(\"predictions:   \", len(predictions))\n",
    "print(\"ground truths: \", len(ground_truths))"
   ]
  },
  {
   "cell_type": "code",
   "execution_count": 77,
   "id": "8f366233",
   "metadata": {},
   "outputs": [],
   "source": [
    "# Calculate the confusion matrix\n",
    "conf_matrix = confusion_matrix(y_true=ground_truths, y_pred=predictions)"
   ]
  },
  {
   "cell_type": "code",
   "execution_count": 78,
   "id": "37ddc13f",
   "metadata": {},
   "outputs": [
    {
     "data": {
      "image/png": "[encoded data removed]",
      "text/plain": [
       "<Figure size 540x540 with 1 Axes>"
      ]
     },
     "metadata": {
      "needs_background": "light"
     },
     "output_type": "display_data"
    }
   ],
   "source": [
    "# Print the confusion matrix using Matplotlib\n",
    "fig, ax = plt.subplots(figsize=(7.5, 7.5))\n",
    "ax.matshow(conf_matrix, cmap=plt.cm.Blues, alpha=0.3)\n",
    "for i in range(conf_matrix.shape[0]):\n",
    "    for j in range(conf_matrix.shape[1]):\n",
    "        ax.text(x=j, y=i,s=conf_matrix[i, j], va='center', ha='center', size='xx-large')\n",
    "\n",
    "plt.xlabel('Predictions', fontsize=18)\n",
    "plt.ylabel('Actuals', fontsize=18)\n",
    "plt.title('Confusion Matrix - Validation Set', fontsize=18)\n",
    "plt.show()"
   ]
  },
  {
   "cell_type": "markdown",
   "id": "410653d1",
   "metadata": {},
   "source": [
    "### examine the accuracy on the test set (2019)"
   ]
  },
  {
   "cell_type": "code",
   "execution_count": 80,
   "id": "c8eec016",
   "metadata": {},
   "outputs": [
    {
     "name": "stdout",
     "output_type": "stream",
     "text": [
      "data file \"2019_test_awns.csv\" contains 39991 rows\n"
     ]
    },
    {
     "name": "stderr",
     "output_type": "stream",
     "text": [
      "[validation] Progress: 100%|██████████| 625/625 [05:36<00:00,  1.86it/s]"
     ]
    },
    {
     "name": "stdout",
     "output_type": "stream",
     "text": [
      "accuracy:  95.70\n",
      "\n",
      "\n",
      "predictions:    39991\n",
      "ground truths:  39991\n"
     ]
    },
    {
     "name": "stderr",
     "output_type": "stream",
     "text": [
      "\n"
     ]
    },
    {
     "data": {
      "image/png": "[encoded data removed]",
      "text/plain": [
       "<Figure size 540x540 with 1 Axes>"
      ]
     },
     "metadata": {
      "needs_background": "light"
     },
     "output_type": "display_data"
    }
   ],
   "source": [
    "data_csv = '/pless_nfs/home/matthewrberning/wheat-awn-classification-multiyear/data/2019_test_awns.csv'\n",
    "batch_size = 64\n",
    "\n",
    "#use helper fucntion\n",
    "get_confusion_matrix_for_dataset(data_csv, batch_size, saved_model)"
   ]
  },
  {
   "cell_type": "code",
   "execution_count": null,
   "id": "8dd381fb",
   "metadata": {},
   "outputs": [],
   "source": []
  },
  {
   "cell_type": "code",
   "execution_count": null,
   "id": "54371e64",
   "metadata": {},
   "outputs": [],
   "source": []
  },
  {
   "cell_type": "code",
   "execution_count": null,
   "id": "99287406",
   "metadata": {},
   "outputs": [],
   "source": []
  },
  {
   "cell_type": "code",
   "execution_count": null,
   "id": "0fb3fc50",
   "metadata": {},
   "outputs": [],
   "source": []
  },
  {
   "cell_type": "markdown",
   "id": "2b5bc06d",
   "metadata": {},
   "source": [
    "### model training: 2021-10-20\n",
    "**lr** = 0.00001 (no scheduler)<br/>**batch_size** = 32<br/>**epochs** = 10<br/>**train dataset:** '/pless_nfs/home/matthewrberning/wheat-awn-classification-multiyear/data/2019_train_awns_oversampled.csv' (but actually imbalanced :P)<br/>**validation dataset:** '/pless_nfs/home/matthewrberning/wheat-awn-classification-multiyear/data/2019_test_awns.csv'<br/>**model state_dict:** '/pless_nfs/home/matthewrberning/wheat-awn-classification-multiyear/runs/2021-10-20-06_44_27_model_epoch-9.pth'\n"
   ]
  },
  {
   "cell_type": "code",
   "execution_count": 16,
   "id": "528da81d",
   "metadata": {},
   "outputs": [
    {
     "data": {
      "text/plain": [
       "<matplotlib.image.AxesImage at 0x7f7b3ff99dc0>"
      ]
     },
     "execution_count": 16,
     "metadata": {},
     "output_type": "execute_result"
    },
    {
     "data": {
      "image/png": "[encoded data removed]",
      "text/plain": [
       "<Figure size 1440x576 with 1 Axes>"
      ]
     },
     "metadata": {
      "needs_background": "light"
     },
     "output_type": "display_data"
    }
   ],
   "source": [
    "#training history plot for the run\n",
    "plot_img = PIL.Image.open(plot_files[-1])\n",
    "plt.figure(figsize = (20,8))\n",
    "plt.imshow(plot_img)"
   ]
  },
  {
   "cell_type": "code",
   "execution_count": 47,
   "id": "88117b3c",
   "metadata": {},
   "outputs": [
    {
     "name": "stdout",
     "output_type": "stream",
     "text": [
      "loading model from: /pless_nfs/home/matthewrberning/wheat-awn-classification-multiyear/runs/2021-10-21-17_52_20_model_epoch-5.pth\n"
     ]
    },
    {
     "data": {
      "text/plain": [
       "<All keys matched successfully>"
      ]
     },
     "execution_count": 47,
     "metadata": {},
     "output_type": "execute_result"
    }
   ],
   "source": [
    "#instantiate the model\n",
    "print(f\"loading model from: {pth_files[-1]}\")\n",
    "saved_model = Model().construct_model(verbose=False)\n",
    "saved_model.load_state_dict(torch.load(pth_files[-1]))"
   ]
  },
  {
   "cell_type": "code",
   "execution_count": 38,
   "id": "75541c48",
   "metadata": {},
   "outputs": [],
   "source": [
    "#send the model to the GPU\n",
    "device = torch.device(\"cuda:0\" if torch.cuda.is_available() else \"cpu\")\n",
    "saved_model = saved_model.to(device)"
   ]
  },
  {
   "cell_type": "markdown",
   "id": "88ea264c",
   "metadata": {},
   "source": [
    "#### verify the accuracy acheived on the validation set (used during training)"
   ]
  },
  {
   "cell_type": "code",
   "execution_count": null,
   "id": "49cf8921",
   "metadata": {},
   "outputs": [],
   "source": [
    "#collect test dataset and create loader iterable-object\n",
    "dataset_path = '/pless_nfs/home/matthewrberning/multi-year-cult-class/data/preprocessed/'\n",
    "data_csv = '/pless_nfs/home/matthewrberning/wheat-awn-classification-multiyear/data/2019_test_awns.csv'\n",
    "batch_size = 32\n",
    "\n",
    "transform = transforms.Compose([transforms.ToTensor(),\n",
    "                                transforms.Normalize([77.7395, 83.9253, 53.3458], [48.1450, 49.1999, 36.7069])])\n",
    "\n",
    "data = WheatAwnDataset(csv_filepath=data_csv, dataset_dir=dataset_path, transform=transform)\n",
    "dataloader = DataLoader(data, batch_size=batch_size, shuffle=True)"
   ]
  },
  {
   "cell_type": "code",
   "execution_count": 26,
   "id": "b5144667",
   "metadata": {},
   "outputs": [
    {
     "name": "stderr",
     "output_type": "stream",
     "text": [
      "[validation] Progress: 100%|██████████| 10858/10858 [14:35<00:00, 12.41it/s]\n"
     ]
    }
   ],
   "source": [
    "#track the correct predictions\n",
    "corrects = 0.0\n",
    "\n",
    "#set model mode\n",
    "saved_model.eval()\n",
    "\n",
    "#make sure to not accumulate gradients\n",
    "with torch.no_grad():\n",
    "    \n",
    "    progress_bar = tqdm(dataloader, total=int(len(dataloader)), desc='[validation] Progress: ')\n",
    "\n",
    "    for step, data in enumerate(progress_bar):\n",
    "\n",
    "        #unpack the data from the progress bar\n",
    "        images, labels = data[0], data[1]\n",
    "\n",
    "        #send the tensors to the device (GPU)\n",
    "        images = images.to(device)\n",
    "        labels = labels.to(device)\n",
    "\n",
    "        #images = images.float() #uncomment if using read_image() from torch\n",
    "        outputs = saved_model(images)\n",
    "\n",
    "        #find the predicted classes indicies\n",
    "        _, preds = torch.max(outputs, 1)\n",
    "\n",
    "        #track the correct predictions\n",
    "        corrects += torch.sum(preds == labels.data).item()"
   ]
  },
  {
   "cell_type": "code",
   "execution_count": 27,
   "id": "8b237ca2",
   "metadata": {},
   "outputs": [
    {
     "name": "stdout",
     "output_type": "stream",
     "text": [
      "accuracy:  88.62\n"
     ]
    }
   ],
   "source": [
    "#calculate the accuracy \n",
    "accuracy = (corrects/len(dataloader.dataset))*100\n",
    "accuracy = \"{:5.2f}\".format(accuracy)\n",
    "print(\"accuracy: \", accuracy)"
   ]
  },
  {
   "cell_type": "code",
   "execution_count": 40,
   "id": "1cd48948",
   "metadata": {},
   "outputs": [
    {
     "name": "stderr",
     "output_type": "stream",
     "text": [
      "[test] Progress: 100%|██████████| 2715/2715 [11:48<00:00,  3.83it/s]"
     ]
    },
    {
     "name": "stdout",
     "output_type": "stream",
     "text": [
      "predictions:    86863\n",
      "ground truths:  86863\n"
     ]
    },
    {
     "name": "stderr",
     "output_type": "stream",
     "text": [
      "\n"
     ]
    }
   ],
   "source": [
    "# Get the predictions\n",
    "predictions = []\n",
    "ground_truths = []\n",
    "\n",
    "progress_bar = tqdm(dataloader, total=int(len(dataloader)), desc='[test] Progress: ')\n",
    "\n",
    "#set model mode\n",
    "saved_model.eval()\n",
    "\n",
    "for step, data in enumerate(progress_bar):\n",
    "    \n",
    "    #unpack the data from the progress bar\n",
    "    images, labels = data[0], data[1]\n",
    "    \n",
    "    images = images.to(device)\n",
    "    \n",
    "    outputs = saved_model(images)\n",
    "    _, preds = torch.max(outputs, 1)\n",
    "    \n",
    "    ground_truths.extend(list(labels.numpy()))\n",
    "    predictions.extend(list(preds.cpu().numpy()))\n",
    "\n",
    "print(\"predictions:   \", len(predictions))\n",
    "print(\"ground truths: \", len(ground_truths))"
   ]
  },
  {
   "cell_type": "code",
   "execution_count": 41,
   "id": "6f4bd1f9",
   "metadata": {},
   "outputs": [],
   "source": [
    "# Calculate the confusion matrix\n",
    "conf_matrix = confusion_matrix(y_true=ground_truths, y_pred=predictions)"
   ]
  },
  {
   "cell_type": "code",
   "execution_count": 42,
   "id": "7037215f",
   "metadata": {},
   "outputs": [
    {
     "data": {
      "image/png": "[encoded data removed]",
      "text/plain": [
       "<Figure size 540x540 with 1 Axes>"
      ]
     },
     "metadata": {
      "needs_background": "light"
     },
     "output_type": "display_data"
    }
   ],
   "source": [
    "# Print the confusion matrix using Matplotlib\n",
    "fig, ax = plt.subplots(figsize=(7.5, 7.5))\n",
    "ax.matshow(conf_matrix, cmap=plt.cm.Blues, alpha=0.3)\n",
    "for i in range(conf_matrix.shape[0]):\n",
    "    for j in range(conf_matrix.shape[1]):\n",
    "        ax.text(x=j, y=i,s=conf_matrix[i, j], va='center', ha='center', size='xx-large')\n",
    "\n",
    "plt.xlabel('Predictions', fontsize=18)\n",
    "plt.ylabel('Actuals', fontsize=18)\n",
    "plt.title('Confusion Matrix', fontsize=18)\n",
    "plt.show()"
   ]
  },
  {
   "cell_type": "markdown",
   "id": "c1d5c653",
   "metadata": {},
   "source": [
    "#### determine the accuracy on the test set"
   ]
  },
  {
   "cell_type": "code",
   "execution_count": 29,
   "id": "97abaf46",
   "metadata": {},
   "outputs": [],
   "source": [
    "#collect test dataset and create loader iterable-object\n",
    "dataset_path = '/pless_nfs/home/matthewrberning/multi-year-cult-class/data/preprocessed/'\n",
    "data_csv = '/pless_nfs/home/matthewrberning/wheat-awn-classification-multiyear/data/2019_val_awns.csv'\n",
    "batch_size = 32\n",
    "\n",
    "transform = transforms.Compose([transforms.ToTensor(),\n",
    "                                transforms.Normalize([77.7395, 83.9253, 53.3458], [48.1450, 49.1999, 36.7069])])\n",
    "\n",
    "data = WheatAwnDataset(csv_filepath=data_csv, dataset_dir=dataset_path, transform=transform)\n",
    "dataloader = DataLoader(data, batch_size=batch_size, shuffle=True)"
   ]
  },
  {
   "cell_type": "code",
   "execution_count": 30,
   "id": "f3a79e3a",
   "metadata": {},
   "outputs": [
    {
     "name": "stderr",
     "output_type": "stream",
     "text": [
      "[test] Progress: 100%|██████████| 1026/1026 [09:34<00:00,  1.79it/s]\n"
     ]
    }
   ],
   "source": [
    "#track the correct predictions\n",
    "corrects = 0.0\n",
    "\n",
    "#set model mode\n",
    "saved_model.eval()\n",
    "\n",
    "#make sure to not accumulate gradients\n",
    "with torch.no_grad():\n",
    "    \n",
    "    progress_bar = tqdm(dataloader, total=int(len(dataloader)), desc='[test] Progress: ')\n",
    "\n",
    "    for step, data in enumerate(progress_bar):\n",
    "\n",
    "        #unpack the data from the progress bar\n",
    "        images, labels = data[0], data[1]\n",
    "\n",
    "        #send the tensors to the device (GPU)\n",
    "        images = images.to(device)\n",
    "        labels = labels.to(device)\n",
    "\n",
    "        #images = images.float() #uncomment if using read_image() from torch\n",
    "        outputs = saved_model(images)\n",
    "\n",
    "        #find the predicted classes indicies\n",
    "        _, preds = torch.max(outputs, 1)\n",
    "\n",
    "        #track the correct predictions\n",
    "        corrects += torch.sum(preds == labels.data).item()"
   ]
  },
  {
   "cell_type": "code",
   "execution_count": 31,
   "id": "cceb960d",
   "metadata": {},
   "outputs": [
    {
     "name": "stdout",
     "output_type": "stream",
     "text": [
      "accuracy:  93.22\n"
     ]
    }
   ],
   "source": [
    "#calculate the accuracy \n",
    "accuracy = (corrects/len(dataloader.dataset))*100\n",
    "accuracy = \"{:5.2f}\".format(accuracy)\n",
    "print(\"accuracy: \", accuracy)"
   ]
  },
  {
   "cell_type": "code",
   "execution_count": 32,
   "id": "e8f8b8e1",
   "metadata": {},
   "outputs": [
    {
     "name": "stderr",
     "output_type": "stream",
     "text": [
      "[test] Progress: 100%|██████████| 1026/1026 [04:34<00:00,  3.74it/s]"
     ]
    },
    {
     "name": "stdout",
     "output_type": "stream",
     "text": [
      "predictions:    32809\n",
      "ground truths:  32809\n"
     ]
    },
    {
     "name": "stderr",
     "output_type": "stream",
     "text": [
      "\n"
     ]
    }
   ],
   "source": [
    "# Get the predictions\n",
    "predictions = []\n",
    "ground_truths = []\n",
    "\n",
    "progress_bar = tqdm(dataloader, total=int(len(dataloader)), desc='[test] Progress: ')\n",
    "\n",
    "#set model mode\n",
    "saved_model.eval()\n",
    "\n",
    "for step, data in enumerate(progress_bar):\n",
    "    \n",
    "    #unpack the data from the progress bar\n",
    "    images, labels = data[0], data[1]\n",
    "    \n",
    "    images = images.to(device)\n",
    "    \n",
    "    outputs = saved_model(images)\n",
    "    _, preds = torch.max(outputs, 1)\n",
    "    \n",
    "    ground_truths.extend(list(labels.numpy()))\n",
    "    predictions.extend(list(preds.cpu().numpy()))\n",
    "\n",
    "print(\"predictions:   \", len(predictions))\n",
    "print(\"ground truths: \", len(ground_truths))"
   ]
  },
  {
   "cell_type": "code",
   "execution_count": 33,
   "id": "4f22ad7c",
   "metadata": {},
   "outputs": [],
   "source": [
    "# Calculate the confusion matrix\n",
    "conf_matrix = confusion_matrix(y_true=ground_truths, y_pred=predictions)"
   ]
  },
  {
   "cell_type": "code",
   "execution_count": 34,
   "id": "08c8e573",
   "metadata": {},
   "outputs": [
    {
     "data": {
      "image/png": "[encoded data removed]",
      "text/plain": [
       "<Figure size 540x540 with 1 Axes>"
      ]
     },
     "metadata": {
      "needs_background": "light"
     },
     "output_type": "display_data"
    }
   ],
   "source": [
    "# Print the confusion matrix using Matplotlib\n",
    "fig, ax = plt.subplots(figsize=(7.5, 7.5))\n",
    "ax.matshow(conf_matrix, cmap=plt.cm.Blues, alpha=0.3)\n",
    "for i in range(conf_matrix.shape[0]):\n",
    "    for j in range(conf_matrix.shape[1]):\n",
    "        ax.text(x=j, y=i,s=conf_matrix[i, j], va='center', ha='center', size='xx-large')\n",
    "\n",
    "plt.xlabel('Predictions', fontsize=18)\n",
    "plt.ylabel('Actuals', fontsize=18)\n",
    "plt.title('Confusion Matrix', fontsize=18)\n",
    "plt.show()"
   ]
  },
  {
   "cell_type": "markdown",
   "id": "8e7ac617",
   "metadata": {},
   "source": [
    "### model training: 2021-10-21\n",
    "**lr** = 0.00001 (no scheduler)<br/>**batch_size** = 32<br/>**epochs** = 10 (but stoped at epoch 6)<br/>**train dataset:** '/pless_nfs/home/matthewrberning/wheat-awn-classification-multiyear/data/2019_train_awns_oversampled.csv' (this time actually balanced)<br/>**validation dataset:** '/pless_nfs/home/matthewrberning/wheat-awn-classification-multiyear/data/2019_val_awns_oversampled.csv'<br/>**model state_dict:** '/pless_nfs/home/matthewrberning/wheat-awn-classification-multiyear/runs/2021-10-21-17_52_20_model_epoch-5.pth'<br/>**Note:** no normalization was used during this training"
   ]
  },
  {
   "cell_type": "code",
   "execution_count": 48,
   "id": "4d48a230",
   "metadata": {},
   "outputs": [
    {
     "name": "stdout",
     "output_type": "stream",
     "text": [
      "loading model from: /pless_nfs/home/matthewrberning/wheat-awn-classification-multiyear/runs/2021-10-21-17_52_20_model_epoch-5.pth\n"
     ]
    },
    {
     "data": {
      "text/plain": [
       "<All keys matched successfully>"
      ]
     },
     "execution_count": 48,
     "metadata": {},
     "output_type": "execute_result"
    }
   ],
   "source": [
    "#instantiate the model\n",
    "print(f\"loading model from: {pth_files[-1]}\")\n",
    "saved_model = Model().construct_model(verbose=False)\n",
    "saved_model.load_state_dict(torch.load('/pless_nfs/home/matthewrberning/wheat-awn-classification-multiyear/runs/2021-10-21-17_52_20_model_epoch-5.pth'))\n"
   ]
  },
  {
   "cell_type": "code",
   "execution_count": 49,
   "id": "7de97807",
   "metadata": {},
   "outputs": [
    {
     "name": "stdout",
     "output_type": "stream",
     "text": [
      "model to:  cuda:0\n"
     ]
    }
   ],
   "source": [
    "#send the model to the GPU\n",
    "device = torch.device(\"cuda:0\" if torch.cuda.is_available() else \"cpu\")\n",
    "saved_model = saved_model.to(device)\n",
    "print(\"model to: \", device)"
   ]
  },
  {
   "cell_type": "markdown",
   "id": "a2b23602",
   "metadata": {},
   "source": [
    "#### first verify the accuracy acheived on the validation set (during training)\n",
    "-this is unfortunatley lower than the maximum axxuracy on the validation set because I was only saving every 5 epochs and it peaked around epoch 3 as far as I remmeber"
   ]
  },
  {
   "cell_type": "code",
   "execution_count": 50,
   "id": "3fd52909",
   "metadata": {},
   "outputs": [
    {
     "name": "stdout",
     "output_type": "stream",
     "text": [
      "data file \"2019_val_awns_oversampled.csv\" contains 157052 rows\n"
     ]
    }
   ],
   "source": [
    "#collect test dataset and create loader iterable-object\n",
    "dataset_path = '/pless_nfs/home/matthewrberning/multi-year-cult-class/data/preprocessed/'\n",
    "data_csv = '/pless_nfs/home/matthewrberning/wheat-awn-classification-multiyear/data/2019_val_awns_oversampled.csv'\n",
    "batch_size = 32\n",
    "\n",
    "transform = transforms.Compose([transforms.ToTensor()])\n",
    "\n",
    "data = WheatAwnDataset(csv_filepath=data_csv, dataset_dir=dataset_path, transform=transform)\n",
    "dataloader = DataLoader(data, batch_size=batch_size, shuffle=True)"
   ]
  },
  {
   "cell_type": "code",
   "execution_count": 51,
   "id": "aa646e2a",
   "metadata": {},
   "outputs": [
    {
     "name": "stderr",
     "output_type": "stream",
     "text": [
      "[validation] Progress: 100%|██████████| 4908/4908 [1:43:56<00:00,  1.27s/it]\n"
     ]
    }
   ],
   "source": [
    "#track the correct predictions\n",
    "corrects = 0.0\n",
    "\n",
    "#set model mode\n",
    "saved_model.eval()\n",
    "\n",
    "# Get the predictions/GT's for the confusion matrix\n",
    "predictions = []\n",
    "ground_truths = []\n",
    "\n",
    "#make sure to not accumulate gradients\n",
    "with torch.no_grad():\n",
    "    \n",
    "    progress_bar = tqdm(dataloader, total=int(len(dataloader)), desc='[validation] Progress: ')\n",
    "\n",
    "    for step, data in enumerate(progress_bar):\n",
    "\n",
    "        #unpack the data from the progress bar\n",
    "        images, labels = data[0], data[1]\n",
    "\n",
    "        #send the tensors to the device (GPU)\n",
    "        images = images.to(device)\n",
    "        labels = labels.to(device)\n",
    "\n",
    "        #images = images.float() #uncomment if using read_image() from torch\n",
    "        outputs = saved_model(images)\n",
    "\n",
    "        #find the predicted classes indicies\n",
    "        _, preds = torch.max(outputs, 1)\n",
    "\n",
    "        #track the correct predictions\n",
    "        corrects += torch.sum(preds == labels.data).item()\n",
    "        \n",
    "        ground_truths.extend(list(labels.cpu().numpy()))\n",
    "        predictions.extend(list(preds.cpu().numpy()))"
   ]
  },
  {
   "cell_type": "code",
   "execution_count": 52,
   "id": "ee3daad0",
   "metadata": {},
   "outputs": [
    {
     "name": "stdout",
     "output_type": "stream",
     "text": [
      "accuracy:  89.54\n",
      "\n",
      "\n",
      "predictions:    157052\n",
      "ground truths:  157052\n"
     ]
    }
   ],
   "source": [
    "#calculate the accuracy \n",
    "accuracy = (corrects/len(dataloader.dataset))*100\n",
    "accuracy = \"{:5.2f}\".format(accuracy)\n",
    "print(\"accuracy: \", accuracy)\n",
    "print('\\n')\n",
    "print(\"predictions:   \", len(predictions))\n",
    "print(\"ground truths: \", len(ground_truths))"
   ]
  },
  {
   "cell_type": "code",
   "execution_count": 53,
   "id": "7823efe5",
   "metadata": {},
   "outputs": [],
   "source": [
    "# Calculate the confusion matrix\n",
    "conf_matrix = confusion_matrix(y_true=ground_truths, y_pred=predictions)"
   ]
  },
  {
   "cell_type": "code",
   "execution_count": 54,
   "id": "6e9c3e30",
   "metadata": {},
   "outputs": [
    {
     "data": {
      "image/png": "[encoded data removed]",
      "text/plain": [
       "<Figure size 540x540 with 1 Axes>"
      ]
     },
     "metadata": {
      "needs_background": "light"
     },
     "output_type": "display_data"
    }
   ],
   "source": [
    "# Print the confusion matrix using Matplotlib\n",
    "fig, ax = plt.subplots(figsize=(7.5, 7.5))\n",
    "ax.matshow(conf_matrix, cmap=plt.cm.Blues, alpha=0.3)\n",
    "for i in range(conf_matrix.shape[0]):\n",
    "    for j in range(conf_matrix.shape[1]):\n",
    "        ax.text(x=j, y=i,s=conf_matrix[i, j], va='center', ha='center', size='xx-large')\n",
    "\n",
    "plt.xlabel('Predictions', fontsize=18)\n",
    "plt.ylabel('Actuals', fontsize=18)\n",
    "plt.title('Confusion Matrix - Validation Set', fontsize=18)\n",
    "plt.show()"
   ]
  },
  {
   "cell_type": "code",
   "execution_count": null,
   "id": "f424ca05",
   "metadata": {},
   "outputs": [],
   "source": []
  },
  {
   "cell_type": "code",
   "execution_count": null,
   "id": "e3ac25a2",
   "metadata": {},
   "outputs": [],
   "source": []
  },
  {
   "cell_type": "code",
   "execution_count": null,
   "id": "c61b128d",
   "metadata": {},
   "outputs": [],
   "source": []
  },
  {
   "cell_type": "code",
   "execution_count": null,
   "id": "af20051e",
   "metadata": {},
   "outputs": [],
   "source": []
  },
  {
   "cell_type": "code",
   "execution_count": null,
   "id": "2e37432a",
   "metadata": {},
   "outputs": [],
   "source": []
  },
  {
   "cell_type": "code",
   "execution_count": 6,
   "id": "67162a90",
   "metadata": {},
   "outputs": [],
   "source": [
    "a =99.109201273128301298"
   ]
  },
  {
   "cell_type": "code",
   "execution_count": 19,
   "id": "f4c99c76",
   "metadata": {},
   "outputs": [
    {
     "name": "stdout",
     "output_type": "stream",
     "text": [
      "a= 99.109\n"
     ]
    }
   ],
   "source": [
    "print(f\"a= {a:.3f}\")"
   ]
  },
  {
   "cell_type": "code",
   "execution_count": 26,
   "id": "ffd9cd94",
   "metadata": {},
   "outputs": [
    {
     "name": "stdout",
     "output_type": "stream",
     "text": [
      "Factor =  0.95  , Learning Rate =  0.0001\n",
      "Factor =  0.95  , Learning Rate =  7.500000000000001e-05\n",
      "Factor =  0.95  , Learning Rate =  4.21875e-05\n",
      "Factor =  0.95  , Learning Rate =  1.77978515625e-05\n",
      "Factor =  0.95  , Learning Rate =  5.631351470947266e-06\n",
      "Factor =  0.95  , Learning Rate =  1.3363461010158063e-06\n",
      "Factor =  0.95  , Learning Rate =  2.3784089542004952e-07\n",
      "Factor =  0.95  , Learning Rate =  3.174792714133596e-08\n",
      "Factor =  0.95  , Learning Rate =  3.178377532566913e-09\n",
      "Factor =  0.95  , Learning Rate =  2.3864747990995233e-10\n"
     ]
    },
    {
     "data": {
      "text/plain": [
       "[<matplotlib.lines.Line2D at 0x7f1373a05790>]"
      ]
     },
     "execution_count": 26,
     "metadata": {},
     "output_type": "execute_result"
    },
    {
     "data": {
      "image/png": "[encoded data removed]",
      "text/plain": [
       "<Figure size 432x288 with 1 Axes>"
      ]
     },
     "metadata": {
      "needs_background": "light"
     },
     "output_type": "display_data"
    }
   ],
   "source": [
    "model = torch.nn.Linear(2, 1)\n",
    "optimizer = torch.optim.SGD(model.parameters(), lr=0.0001)\n",
    "lmbda = lambda epoch: 0.75 ** epoch\n",
    "scheduler = torch.optim.lr_scheduler.MultiplicativeLR(optimizer, lr_lambda=lmbda)\n",
    "lrs = []\n",
    "\n",
    "for i in range(10):\n",
    "    optimizer.step()\n",
    "    lrs.append(optimizer.param_groups[0][\"lr\"])\n",
    "    print(\"Factor = \",0.95,\" , Learning Rate = \",optimizer.param_groups[0][\"lr\"])\n",
    "    scheduler.step()\n",
    "\n",
    "plt.plot(range(10),lrs)"
   ]
  },
  {
   "cell_type": "code",
   "execution_count": null,
   "id": "be08a754",
   "metadata": {
    "collapsed": true
   },
   "outputs": [],
   "source": []
  }
 ],
 "metadata": {
  "kernelspec": {
   "display_name": "Python [conda env:awnClass38] *",
   "language": "python",
   "name": "conda-env-awnClass38-py"
  },
  "language_info": {
   "codemirror_mode": {
    "name": "ipython",
    "version": 3
   },
   "file_extension": ".py",
   "mimetype": "text/x-python",
   "name": "python",
   "nbconvert_exporter": "python",
   "pygments_lexer": "ipython3",
   "version": "3.8.12"
  }
 },
 "nbformat": 4,
 "nbformat_minor": 5
}
