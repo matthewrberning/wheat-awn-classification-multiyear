{
 "cells": [
  {
   "cell_type": "code",
   "execution_count": 28,
   "id": "901d268f",
   "metadata": {},
   "outputs": [],
   "source": [
    "import os\n",
    "os.environ[\"CUDA_VISIBLE_DEVICES\"] = \"0\"\n",
    "import sys\n",
    "import time\n",
    "\n",
    "from model import Model\n",
    "from dataset import WheatAwnDataset\n",
    "\n",
    "from tqdm import tqdm\n",
    "import torch\n",
    "import torch.nn as nn\n",
    "import torchvision\n",
    "from torch.utils.data import DataLoader\n",
    "from torchvision import transforms\n",
    "import PIL\n",
    "import matplotlib.pyplot as plt\n",
    "from datetime import datetime\n",
    "from sklearn.metrics import confusion_matrix"
   ]
  },
  {
   "cell_type": "markdown",
   "id": "7a60ad88",
   "metadata": {},
   "source": [
    "### This Notebook will be used to Evaluate Trained Models on Testing Data\n",
    "-both 2020 and 2019 testing data will be used<br/>-we will also use it to visualize model performance<br/>-we can also directly compare variout trained models<br/>-each evaluation block will start with a markdown cell containing the **\"path/to/the/model's/state_dtict.pth\"** file as well as the hyper parmeters used"
   ]
  },
  {
   "cell_type": "code",
   "execution_count": 14,
   "id": "87036332",
   "metadata": {},
   "outputs": [
    {
     "name": "stdout",
     "output_type": "stream",
     "text": [
      "file: test_loss_accuracy-plot.jpg\n",
      " time: 2021-10-17 14:56:08.634031\n",
      "\n",
      "file: 2021-10-17-15_24_58_loss_accuracy-plot.jpg\n",
      " time: 2021-10-17 15:24:58.844047\n",
      "\n",
      "file: 2021-10-17-15_27_56_loss_accuracy-plot.jpg\n",
      " time: 2021-10-17 15:27:56.908515\n",
      "\n",
      "file: 2021-10-17-16_03_58_loss_accuracy-plot.jpg\n",
      " time: 2021-10-17 16:03:58.574784\n",
      "\n",
      "file: 2021-10-19-12_20_00_loss_accuracy-plot.jpg\n",
      " time: 2021-10-19 12:23:38.676288\n",
      "\n",
      "file: 2021-10-19-12_43_19_loss_accuracy-plot.jpg\n",
      " time: 2021-10-19 12:43:48.781290\n",
      "\n",
      "file: 2021-10-19-12_45_24_loss_accuracy-plot.jpg\n",
      " time: 2021-10-19 12:45:53.247819\n",
      "\n",
      "file: 2021-10-19-12_47_53_loss_accuracy-plot.jpg\n",
      " time: 2021-10-19 12:48:22.072233\n",
      "\n",
      "file: 2021-10-19-12_49_28_loss_accuracy-plot.jpg\n",
      " time: 2021-10-19 12:49:58.360736\n",
      "\n",
      "file: 2021-10-19-13_01_59_loss_accuracy-plot.jpg\n",
      " time: 2021-10-19 13:02:28.148023\n",
      "\n",
      "file: 2021-10-19-13_04_30_loss_accuracy-plot.jpg\n",
      " time: 2021-10-19 13:04:53.676319\n",
      "\n",
      "file: 2021-10-19-13_05_34_loss_accuracy-plot.jpg\n",
      " time: 2021-10-19 13:06:02.199813\n",
      "\n",
      "file: 2021-10-19-13_16_11_loss_accuracy-plot.jpg\n",
      " time: 2021-10-19 13:16:40.584022\n",
      "\n",
      "file: 2021-10-19-21_50_36_loss_accuracy-plot.jpg\n",
      " time: 2021-10-19 21:51:32.457366\n",
      "\n",
      "file: 2021-10-19-21_51_55_loss_accuracy-plot.jpg\n",
      " time: 2021-10-19 21:52:50.803348\n",
      "\n",
      "file: 2021-10-20-06_44_27_loss_accuracy-plot.jpg\n",
      " time: 2021-10-20 20:45:14.098132\n",
      "\n"
     ]
    }
   ],
   "source": [
    "#sort image files (accuracy vs loss plots)\n",
    "search_dir = \"/pless_nfs/home/matthewrberning/wheat-awn-classification-multiyear/runs/\"\n",
    "os.chdir(search_dir)\n",
    "plot_files = filter(os.path.isfile, os.listdir(search_dir))\n",
    "plot_files = [os.path.join(search_dir, f) for f in plot_files]# add path to each file\n",
    "\n",
    "plot_files = [file for file in plot_files if file.endswith('.jpg')]\n",
    "plot_files.sort(key=lambda x: os.path.getmtime(x))\n",
    "\n",
    "for file in plot_files:\n",
    "    print(f\"file: {file.split('/')[-1]}\\n time: {datetime.fromtimestamp(os.path.getmtime(file))}\\n\")"
   ]
  },
  {
   "cell_type": "code",
   "execution_count": 15,
   "id": "64035e94",
   "metadata": {},
   "outputs": [
    {
     "name": "stdout",
     "output_type": "stream",
     "text": [
      "file: 2021-10-19-12_20_00_model_epoch-49.pth\n",
      " time: 2021-10-19 12:23:37.758255\n",
      "\n",
      "file: 2021-10-19-12_43_19_model_epoch-4.pth\n",
      " time: 2021-10-19 12:43:48.164268\n",
      "\n",
      "file: 2021-10-19-12_45_24_model_epoch-4.pth\n",
      " time: 2021-10-19 12:45:52.731800\n",
      "\n",
      "file: 2021-10-19-12_47_53_model_epoch-4.pth\n",
      " time: 2021-10-19 12:48:21.319206\n",
      "\n",
      "file: 2021-10-19-12_49_28_model_epoch-4.pth\n",
      " time: 2021-10-19 12:49:57.838717\n",
      "\n",
      "file: 2021-10-19-12_57_38_model_epoch-4.pth\n",
      " time: 2021-10-19 12:58:07.381533\n",
      "\n",
      "file: 2021-10-19-13_01_59_model_epoch-4.pth\n",
      " time: 2021-10-19 13:02:27.611003\n",
      "\n",
      "file: 2021-10-19-13_04_30_model_epoch-4.pth\n",
      " time: 2021-10-19 13:04:53.291305\n",
      "\n",
      "file: 2021-10-19-13_05_34_model_epoch-4.pth\n",
      " time: 2021-10-19 13:06:01.809799\n",
      "\n",
      "file: 2021-10-19-13_16_11_model_epoch-4.pth\n",
      " time: 2021-10-19 13:16:40.168007\n",
      "\n",
      "file: 2021-10-19-21_50_36_model_epoch-4.pth\n",
      " time: 2021-10-19 21:51:32.037350\n",
      "\n",
      "file: 2021-10-19-21_51_55_model_epoch-4.pth\n",
      " time: 2021-10-19 21:52:50.356331\n",
      "\n",
      "file: 2021-10-20-06_44_27_model_epoch-5.pth\n",
      " time: 2021-10-20 16:22:36.356746\n",
      "\n",
      "file: 2021-10-20-06_44_27_model_epoch-9.pth\n",
      " time: 2021-10-20 20:45:13.169098\n",
      "\n"
     ]
    }
   ],
   "source": [
    "#sort state_dict (.pth) files in runs dir\n",
    "search_dir = \"/pless_nfs/home/matthewrberning/wheat-awn-classification-multiyear/runs/\"\n",
    "os.chdir(search_dir)\n",
    "pth_files = filter(os.path.isfile, os.listdir(search_dir))\n",
    "pth_files = [os.path.join(search_dir, f) for f in pth_files]# add path to each file\n",
    "\n",
    "pth_files = [file for file in pth_files if file.endswith('.pth')] #only get model files\n",
    "pth_files.sort(key=lambda x: os.path.getmtime(x))\n",
    "\n",
    "for file in pth_files:\n",
    "    print(f\"file: {file.split('/')[-1]}\\n time: {datetime.fromtimestamp(os.path.getmtime(file))}\\n\")"
   ]
  },
  {
   "cell_type": "markdown",
   "id": "2da9591c",
   "metadata": {},
   "source": [
    "### model training: 2021-10-20\n",
    "**lr** = 0.00001 (no scheduler)<br/>**batch_size** = 32<br/>**epochs** = 10<br/>**train dataset:** '/pless_nfs/home/matthewrberning/wheat-awn-classification-multiyear/data/2019_train_awns_oversampled.csv'<br/>**validation dataset:** '/pless_nfs/home/matthewrberning/wheat-awn-classification-multiyear/data/2019_test_awns.csv'\n"
   ]
  },
  {
   "cell_type": "code",
   "execution_count": 16,
   "id": "505897d6",
   "metadata": {},
   "outputs": [
    {
     "data": {
      "text/plain": [
       "<matplotlib.image.AxesImage at 0x7f7b3ff99dc0>"
      ]
     },
     "execution_count": 16,
     "metadata": {},
     "output_type": "execute_result"
    },
    {
     "data": {
      "image/png": "[encoded data removed]",
      "text/plain": [
       "<Figure size 1440x576 with 1 Axes>"
      ]
     },
     "metadata": {
      "needs_background": "light"
     },
     "output_type": "display_data"
    }
   ],
   "source": [
    "#raining history plot for the run\n",
    "plot_img = PIL.Image.open(plot_files[-1])\n",
    "plt.figure(figsize = (20,8))\n",
    "plt.imshow(plot_img)"
   ]
  },
  {
   "cell_type": "code",
   "execution_count": 37,
   "id": "c3749938",
   "metadata": {},
   "outputs": [
    {
     "name": "stdout",
     "output_type": "stream",
     "text": [
      "loading model from: /pless_nfs/home/matthewrberning/wheat-awn-classification-multiyear/runs/2021-10-20-06_44_27_model_epoch-9.pth\n"
     ]
    },
    {
     "data": {
      "text/plain": [
       "<All keys matched successfully>"
      ]
     },
     "execution_count": 37,
     "metadata": {},
     "output_type": "execute_result"
    }
   ],
   "source": [
    "#instantiate the model\n",
    "print(f\"loading model from: {pth_files[-1]}\")\n",
    "saved_model = Model().construct_model(verbose=False)\n",
    "saved_model.load_state_dict(torch.load(pth_files[-1]))"
   ]
  },
  {
   "cell_type": "code",
   "execution_count": 38,
   "id": "62aa4c83",
   "metadata": {},
   "outputs": [],
   "source": [
    "#send the model to the GPU\n",
    "device = torch.device(\"cuda:0\" if torch.cuda.is_available() else \"cpu\")\n",
    "saved_model = saved_model.to(device)"
   ]
  },
  {
   "cell_type": "markdown",
   "id": "e12e004d",
   "metadata": {},
   "source": [
    "#### verify the accuracy acheived on the validation set (used during training)"
   ]
  },
  {
   "cell_type": "code",
   "execution_count": 39,
   "id": "7817a181",
   "metadata": {},
   "outputs": [],
   "source": [
    "#collect test dataset and create loader iterable-object\n",
    "dataset_path = '/pless_nfs/home/matthewrberning/multi-year-cult-class/data/preprocessed/'\n",
    "data_csv = '/pless_nfs/home/matthewrberning/wheat-awn-classification-multiyear/data/2019_test_awns.csv'\n",
    "batch_size = 32\n",
    "\n",
    "transform = transforms.Compose([transforms.ToTensor(),\n",
    "                                transforms.Normalize([77.7395, 83.9253, 53.3458], [48.1450, 49.1999, 36.7069])])\n",
    "\n",
    "data = WheatAwnDataset(csv_filepath=data_csv, dataset_dir=dataset_path, transform=transform)\n",
    "dataloader = DataLoader(data, batch_size=batch_size, shuffle=True)"
   ]
  },
  {
   "cell_type": "code",
   "execution_count": null,
   "id": "15f45bb1",
   "metadata": {},
   "outputs": [],
   "source": []
  },
  {
   "cell_type": "code",
   "execution_count": 26,
   "id": "7017a750",
   "metadata": {},
   "outputs": [
    {
     "name": "stderr",
     "output_type": "stream",
     "text": [
      "[validation] Progress: 100%|██████████| 10858/10858 [14:35<00:00, 12.41it/s]\n"
     ]
    }
   ],
   "source": [
    "#track the correct predictions\n",
    "corrects = 0.0\n",
    "\n",
    "#set model mode\n",
    "saved_model.eval()\n",
    "\n",
    "#make sure to not accumulate gradients\n",
    "with torch.no_grad():\n",
    "    \n",
    "    progress_bar = tqdm(dataloader, total=int(len(dataloader)), desc='[validation] Progress: ')\n",
    "\n",
    "    for step, data in enumerate(progress_bar):\n",
    "\n",
    "        #unpack the data from the progress bar\n",
    "        images, labels = data[0], data[1]\n",
    "\n",
    "        #send the tensors to the device (GPU)\n",
    "        images = images.to(device)\n",
    "        labels = labels.to(device)\n",
    "\n",
    "        #images = images.float() #uncomment if using read_image() from torch\n",
    "        outputs = saved_model(images)\n",
    "\n",
    "        #find the predicted classes indicies\n",
    "        _, preds = torch.max(outputs, 1)\n",
    "\n",
    "        #track the correct predictions\n",
    "        corrects += torch.sum(preds == labels.data).item()"
   ]
  },
  {
   "cell_type": "code",
   "execution_count": 27,
   "id": "3b614620",
   "metadata": {},
   "outputs": [
    {
     "name": "stdout",
     "output_type": "stream",
     "text": [
      "accuracy:  88.62\n"
     ]
    }
   ],
   "source": [
    "#calculate the accuracy \n",
    "accuracy = (corrects/len(dataloader.dataset))*100\n",
    "accuracy = \"{:5.2f}\".format(accuracy)\n",
    "print(\"accuracy: \", accuracy)"
   ]
  },
  {
   "cell_type": "code",
   "execution_count": 40,
   "id": "a6b0a914",
   "metadata": {},
   "outputs": [
    {
     "name": "stderr",
     "output_type": "stream",
     "text": [
      "[test] Progress: 100%|██████████| 2715/2715 [11:48<00:00,  3.83it/s]"
     ]
    },
    {
     "name": "stdout",
     "output_type": "stream",
     "text": [
      "predictions:    86863\n",
      "ground truths:  86863\n"
     ]
    },
    {
     "name": "stderr",
     "output_type": "stream",
     "text": [
      "\n"
     ]
    }
   ],
   "source": [
    "# Get the predictions\n",
    "predictions = []\n",
    "ground_truths = []\n",
    "\n",
    "progress_bar = tqdm(dataloader, total=int(len(dataloader)), desc='[test] Progress: ')\n",
    "\n",
    "#set model mode\n",
    "saved_model.eval()\n",
    "\n",
    "for step, data in enumerate(progress_bar):\n",
    "    \n",
    "    #unpack the data from the progress bar\n",
    "    images, labels = data[0], data[1]\n",
    "    \n",
    "    images = images.to(device)\n",
    "    \n",
    "    outputs = saved_model(images)\n",
    "    _, preds = torch.max(outputs, 1)\n",
    "    \n",
    "    ground_truths.extend(list(labels.numpy()))\n",
    "    predictions.extend(list(preds.cpu().numpy()))\n",
    "\n",
    "print(\"predictions:   \", len(predictions))\n",
    "print(\"ground truths: \", len(ground_truths))"
   ]
  },
  {
   "cell_type": "code",
   "execution_count": 41,
   "id": "0f1f04a2",
   "metadata": {},
   "outputs": [],
   "source": [
    "# Calculate the confusion matrix\n",
    "conf_matrix = confusion_matrix(y_true=ground_truths, y_pred=predictions)"
   ]
  },
  {
   "cell_type": "code",
   "execution_count": 42,
   "id": "f78d2129",
   "metadata": {},
   "outputs": [
    {
     "data": {
      "image/png": "[encoded data removed]",
      "text/plain": [
       "<Figure size 540x540 with 1 Axes>"
      ]
     },
     "metadata": {
      "needs_background": "light"
     },
     "output_type": "display_data"
    }
   ],
   "source": [
    "# Print the confusion matrix using Matplotlib\n",
    "fig, ax = plt.subplots(figsize=(7.5, 7.5))\n",
    "ax.matshow(conf_matrix, cmap=plt.cm.Blues, alpha=0.3)\n",
    "for i in range(conf_matrix.shape[0]):\n",
    "    for j in range(conf_matrix.shape[1]):\n",
    "        ax.text(x=j, y=i,s=conf_matrix[i, j], va='center', ha='center', size='xx-large')\n",
    "\n",
    "plt.xlabel('Predictions', fontsize=18)\n",
    "plt.ylabel('Actuals', fontsize=18)\n",
    "plt.title('Confusion Matrix', fontsize=18)\n",
    "plt.show()"
   ]
  },
  {
   "cell_type": "markdown",
   "id": "ecbd7f73",
   "metadata": {},
   "source": [
    "#### determine the accuracy on the test set"
   ]
  },
  {
   "cell_type": "code",
   "execution_count": 29,
   "id": "7f7622d0",
   "metadata": {},
   "outputs": [],
   "source": [
    "#collect test dataset and create loader iterable-object\n",
    "dataset_path = '/pless_nfs/home/matthewrberning/multi-year-cult-class/data/preprocessed/'\n",
    "data_csv = '/pless_nfs/home/matthewrberning/wheat-awn-classification-multiyear/data/2019_val_awns.csv'\n",
    "batch_size = 32\n",
    "\n",
    "transform = transforms.Compose([transforms.ToTensor(),\n",
    "                                transforms.Normalize([77.7395, 83.9253, 53.3458], [48.1450, 49.1999, 36.7069])])\n",
    "\n",
    "data = WheatAwnDataset(csv_filepath=data_csv, dataset_dir=dataset_path, transform=transform)\n",
    "dataloader = DataLoader(data, batch_size=batch_size, shuffle=True)"
   ]
  },
  {
   "cell_type": "code",
   "execution_count": 30,
   "id": "db388f7f",
   "metadata": {},
   "outputs": [
    {
     "name": "stderr",
     "output_type": "stream",
     "text": [
      "[test] Progress: 100%|██████████| 1026/1026 [09:34<00:00,  1.79it/s]\n"
     ]
    }
   ],
   "source": [
    "#track the correct predictions\n",
    "corrects = 0.0\n",
    "\n",
    "#set model mode\n",
    "saved_model.eval()\n",
    "\n",
    "#make sure to not accumulate gradients\n",
    "with torch.no_grad():\n",
    "    \n",
    "    progress_bar = tqdm(dataloader, total=int(len(dataloader)), desc='[test] Progress: ')\n",
    "\n",
    "    for step, data in enumerate(progress_bar):\n",
    "\n",
    "        #unpack the data from the progress bar\n",
    "        images, labels = data[0], data[1]\n",
    "\n",
    "        #send the tensors to the device (GPU)\n",
    "        images = images.to(device)\n",
    "        labels = labels.to(device)\n",
    "\n",
    "        #images = images.float() #uncomment if using read_image() from torch\n",
    "        outputs = saved_model(images)\n",
    "\n",
    "        #find the predicted classes indicies\n",
    "        _, preds = torch.max(outputs, 1)\n",
    "\n",
    "        #track the correct predictions\n",
    "        corrects += torch.sum(preds == labels.data).item()"
   ]
  },
  {
   "cell_type": "code",
   "execution_count": 31,
   "id": "6cba1579",
   "metadata": {},
   "outputs": [
    {
     "name": "stdout",
     "output_type": "stream",
     "text": [
      "accuracy:  93.22\n"
     ]
    }
   ],
   "source": [
    "#calculate the accuracy \n",
    "accuracy = (corrects/len(dataloader.dataset))*100\n",
    "accuracy = \"{:5.2f}\".format(accuracy)\n",
    "print(\"accuracy: \", accuracy)"
   ]
  },
  {
   "cell_type": "code",
   "execution_count": 32,
   "id": "a47caa77",
   "metadata": {},
   "outputs": [
    {
     "name": "stderr",
     "output_type": "stream",
     "text": [
      "[test] Progress: 100%|██████████| 1026/1026 [04:34<00:00,  3.74it/s]"
     ]
    },
    {
     "name": "stdout",
     "output_type": "stream",
     "text": [
      "predictions:    32809\n",
      "ground truths:  32809\n"
     ]
    },
    {
     "name": "stderr",
     "output_type": "stream",
     "text": [
      "\n"
     ]
    }
   ],
   "source": [
    "# Get the predictions\n",
    "predictions = []\n",
    "ground_truths = []\n",
    "\n",
    "progress_bar = tqdm(dataloader, total=int(len(dataloader)), desc='[test] Progress: ')\n",
    "\n",
    "#set model mode\n",
    "saved_model.eval()\n",
    "\n",
    "for step, data in enumerate(progress_bar):\n",
    "    \n",
    "    #unpack the data from the progress bar\n",
    "    images, labels = data[0], data[1]\n",
    "    \n",
    "    images = images.to(device)\n",
    "    \n",
    "    outputs = saved_model(images)\n",
    "    _, preds = torch.max(outputs, 1)\n",
    "    \n",
    "    ground_truths.extend(list(labels.numpy()))\n",
    "    predictions.extend(list(preds.cpu().numpy()))\n",
    "\n",
    "print(\"predictions:   \", len(predictions))\n",
    "print(\"ground truths: \", len(ground_truths))"
   ]
  },
  {
   "cell_type": "code",
   "execution_count": 33,
   "id": "5bcc31b5",
   "metadata": {},
   "outputs": [],
   "source": [
    "# Calculate the confusion matrix\n",
    "conf_matrix = confusion_matrix(y_true=ground_truths, y_pred=predictions)"
   ]
  },
  {
   "cell_type": "code",
   "execution_count": 34,
   "id": "2766b396",
   "metadata": {},
   "outputs": [
    {
     "data": {
      "image/png": "[encoded data removed]",
      "text/plain": [
       "<Figure size 540x540 with 1 Axes>"
      ]
     },
     "metadata": {
      "needs_background": "light"
     },
     "output_type": "display_data"
    }
   ],
   "source": [
    "# Print the confusion matrix using Matplotlib\n",
    "fig, ax = plt.subplots(figsize=(7.5, 7.5))\n",
    "ax.matshow(conf_matrix, cmap=plt.cm.Blues, alpha=0.3)\n",
    "for i in range(conf_matrix.shape[0]):\n",
    "    for j in range(conf_matrix.shape[1]):\n",
    "        ax.text(x=j, y=i,s=conf_matrix[i, j], va='center', ha='center', size='xx-large')\n",
    "\n",
    "plt.xlabel('Predictions', fontsize=18)\n",
    "plt.ylabel('Actuals', fontsize=18)\n",
    "plt.title('Confusion Matrix', fontsize=18)\n",
    "plt.show()"
   ]
  },
  {
   "cell_type": "code",
   "execution_count": null,
   "id": "752147f6",
   "metadata": {},
   "outputs": [],
   "source": []
  },
  {
   "cell_type": "code",
   "execution_count": null,
   "id": "c2f08f4d",
   "metadata": {},
   "outputs": [],
   "source": []
  },
  {
   "cell_type": "code",
   "execution_count": null,
   "id": "a1b131d4",
   "metadata": {},
   "outputs": [],
   "source": []
  },
  {
   "cell_type": "markdown",
   "id": "8b55f659",
   "metadata": {},
   "source": [
    "#### what the heck is going on...!?!"
   ]
  },
  {
   "cell_type": "code",
   "execution_count": 43,
   "id": "d0926e31",
   "metadata": {},
   "outputs": [],
   "source": [
    "import pandas as pd\n",
    "\n",
    "df = pd.read_csv('/pless_nfs/home/matthewrberning/wheat-awn-classification-multiyear/data/2019_train_awns_oversampled.csv')"
   ]
  },
  {
   "cell_type": "code",
   "execution_count": 44,
   "id": "0bdff392",
   "metadata": {},
   "outputs": [
    {
     "data": {
      "text/html": [
       "<div>\n",
       "<style scoped>\n",
       "    .dataframe tbody tr th:only-of-type {\n",
       "        vertical-align: middle;\n",
       "    }\n",
       "\n",
       "    .dataframe tbody tr th {\n",
       "        vertical-align: top;\n",
       "    }\n",
       "\n",
       "    .dataframe thead th {\n",
       "        text-align: right;\n",
       "    }\n",
       "</style>\n",
       "<table border=\"1\" class=\"dataframe\">\n",
       "  <thead>\n",
       "    <tr style=\"text-align: right;\">\n",
       "      <th></th>\n",
       "      <th>img_loc</th>\n",
       "      <th>awn_label</th>\n",
       "    </tr>\n",
       "  </thead>\n",
       "  <tbody>\n",
       "    <tr>\n",
       "      <th>0</th>\n",
       "      <td>/pless_nfs/home/matthewrberning/multi-year-cul...</td>\n",
       "      <td>0</td>\n",
       "    </tr>\n",
       "    <tr>\n",
       "      <th>1</th>\n",
       "      <td>/pless_nfs/home/matthewrberning/multi-year-cul...</td>\n",
       "      <td>0</td>\n",
       "    </tr>\n",
       "    <tr>\n",
       "      <th>2</th>\n",
       "      <td>/pless_nfs/home/matthewrberning/multi-year-cul...</td>\n",
       "      <td>0</td>\n",
       "    </tr>\n",
       "    <tr>\n",
       "      <th>3</th>\n",
       "      <td>/pless_nfs/home/matthewrberning/multi-year-cul...</td>\n",
       "      <td>0</td>\n",
       "    </tr>\n",
       "    <tr>\n",
       "      <th>4</th>\n",
       "      <td>/pless_nfs/home/matthewrberning/multi-year-cul...</td>\n",
       "      <td>0</td>\n",
       "    </tr>\n",
       "  </tbody>\n",
       "</table>\n",
       "</div>"
      ],
      "text/plain": [
       "                                             img_loc  awn_label\n",
       "0  /pless_nfs/home/matthewrberning/multi-year-cul...          0\n",
       "1  /pless_nfs/home/matthewrberning/multi-year-cul...          0\n",
       "2  /pless_nfs/home/matthewrberning/multi-year-cul...          0\n",
       "3  /pless_nfs/home/matthewrberning/multi-year-cul...          0\n",
       "4  /pless_nfs/home/matthewrberning/multi-year-cul...          0"
      ]
     },
     "execution_count": 44,
     "metadata": {},
     "output_type": "execute_result"
    }
   ],
   "source": [
    "\n",
    "df.head()"
   ]
  },
  {
   "cell_type": "code",
   "execution_count": 45,
   "id": "a1413ae8",
   "metadata": {},
   "outputs": [
    {
     "data": {
      "text/plain": [
       "awn_label\n",
       "0    451311\n",
       "1      1155\n",
       "dtype: int64"
      ]
     },
     "execution_count": 45,
     "metadata": {},
     "output_type": "execute_result"
    }
   ],
   "source": [
    "df.value_counts('awn_label')"
   ]
  },
  {
   "cell_type": "markdown",
   "id": "93d11189",
   "metadata": {},
   "source": [
    "#### Oh.."
   ]
  },
  {
   "cell_type": "code",
   "execution_count": null,
   "id": "92237d71",
   "metadata": {},
   "outputs": [],
   "source": []
  }
 ],
 "metadata": {
  "kernelspec": {
   "display_name": "Python [conda env:awnClass38] *",
   "language": "python",
   "name": "conda-env-awnClass38-py"
  },
  "language_info": {
   "codemirror_mode": {
    "name": "ipython",
    "version": 3
   },
   "file_extension": ".py",
   "mimetype": "text/x-python",
   "name": "python",
   "nbconvert_exporter": "python",
   "pygments_lexer": "ipython3",
   "version": "3.8.12"
  }
 },
 "nbformat": 4,
 "nbformat_minor": 5
}
